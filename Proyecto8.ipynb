{
 "cells": [
  {
   "cell_type": "markdown",
   "metadata": {},
   "source": [
    "# Proyecto de Predicción de Abandono de Clientes en Beta Bank"
   ]
  },
  {
   "cell_type": "markdown",
   "metadata": {},
   "source": [
    "## Descripción del Proyecto\n",
    "\n",
    "Los clientes de Beta Bank están abandonando el banco gradualmente cada mes. Los banqueros han identificado que es más económico retener a los clientes actuales que atraer nuevos. Por lo tanto, se necesita un modelo predictivo que determine si un cliente dejará el banco pronto, utilizando datos sobre el comportamiento pasado de los clientes y la terminación de contratos."
   ]
  },
  {
   "cell_type": "markdown",
   "metadata": {},
   "source": [
    "## Objetivo\n",
    "\n",
    "El objetivo es crear un modelo con el máximo valor F1 posible, asegurando que este valor sea al menos 0.59 para aprobar la revisión. Además, se debe medir la métrica AUC-ROC y compararla con el valor F1."
   ]
  },
  {
   "cell_type": "markdown",
   "metadata": {},
   "source": [
    "\n",
    "## Descripción de los Datos\n",
    "\n",
    "Los datos disponibles en el archivo `/datasets/Churn.csv` incluyen las siguientes características:\n",
    "\n",
    "\n",
    "-`RowNumber:` Índice de la cadena de datos.\n",
    "\n",
    "-`CustomerId:` Identificador único del cliente.\n",
    "\n",
    "-`Surname:` Apellido.\n",
    "\n",
    "-`CreditScore:` Puntuación de crédito.\n",
    "\n",
    "-`Geography:` País de residencia.\n",
    "\n",
    "-`Gender:` Género.\n",
    "\n",
    "-`Age:` Edad.\n",
    "\n",
    "-`Tenure:` Periodo durante el cual el depósito a plazo fijo del cliente ha madurado (años).\n",
    "\n",
    "-`Balance:` Saldo de la cuenta.\n",
    "\n",
    "-`NumOfProducts:` Número de productos bancarios utilizados por el cliente.\n",
    "\n",
    "-`HasCrCard:` El cliente tiene una tarjeta de crédito (1 - sí, 0 - no).\n",
    "\n",
    "-`IsActiveMember:` Actividad del cliente (1 - sí, 0 - no).\n",
    "\n",
    "-`EstimatedSalary:` Salario estimado.\n",
    "\n",
    "-`Exited:` El cliente se ha ido (1 - sí, 0 - no)."
   ]
  },
  {
   "cell_type": "markdown",
   "metadata": {},
   "source": [
    "## Preparación de Datos\n",
    "\n",
    "Primero, descargaremos y prepararemos los datos del archivo `/datasets/Churn.csv.` En esta fase, explicaré detalladamente el procedimiento de preparación de los datos, incluyendo cómo se procesaron todos los tipos de características disponibles."
   ]
  },
  {
   "cell_type": "code",
   "execution_count": 1,
   "metadata": {},
   "outputs": [],
   "source": [
    "# Importar librerías\n",
    "\n",
    "# Manipulación de datos\n",
    "import pandas as pd\n",
    "import numpy as np\n",
    "\n",
    "# Preprocesamiento y escalado\n",
    "from sklearn.preprocessing import StandardScaler, OrdinalEncoder\n",
    "\n",
    "# Modelos de clasificación\n",
    "from sklearn.linear_model import LogisticRegression\n",
    "from sklearn.tree import DecisionTreeClassifier\n",
    "from sklearn.ensemble import RandomForestClassifier\n",
    "\n",
    "# Evaluación de modelos\n",
    "from sklearn.metrics import accuracy_score, precision_score, recall_score, f1_score, confusion_matrix, roc_auc_score, roc_curve\n",
    "\n",
    "# División del conjunto de datos\n",
    "from sklearn.model_selection import train_test_split\n",
    "\n",
    "# Utilidades adicionales\n",
    "from sklearn.utils import shuffle\n",
    "import matplotlib.pyplot as plt\n"
   ]
  },
  {
   "cell_type": "code",
   "execution_count": 2,
   "metadata": {},
   "outputs": [],
   "source": [
    "#Leer los datos en un Dataframe\n",
    "df = pd.read_csv('Churn.csv')"
   ]
  },
  {
   "cell_type": "code",
   "execution_count": 3,
   "metadata": {},
   "outputs": [
    {
     "data": {
      "text/html": [
       "<div>\n",
       "<style scoped>\n",
       "    .dataframe tbody tr th:only-of-type {\n",
       "        vertical-align: middle;\n",
       "    }\n",
       "\n",
       "    .dataframe tbody tr th {\n",
       "        vertical-align: top;\n",
       "    }\n",
       "\n",
       "    .dataframe thead th {\n",
       "        text-align: right;\n",
       "    }\n",
       "</style>\n",
       "<table border=\"1\" class=\"dataframe\">\n",
       "  <thead>\n",
       "    <tr style=\"text-align: right;\">\n",
       "      <th></th>\n",
       "      <th>RowNumber</th>\n",
       "      <th>CustomerId</th>\n",
       "      <th>Surname</th>\n",
       "      <th>CreditScore</th>\n",
       "      <th>Geography</th>\n",
       "      <th>Gender</th>\n",
       "      <th>Age</th>\n",
       "      <th>Tenure</th>\n",
       "      <th>Balance</th>\n",
       "      <th>NumOfProducts</th>\n",
       "      <th>HasCrCard</th>\n",
       "      <th>IsActiveMember</th>\n",
       "      <th>EstimatedSalary</th>\n",
       "      <th>Exited</th>\n",
       "    </tr>\n",
       "  </thead>\n",
       "  <tbody>\n",
       "    <tr>\n",
       "      <th>6252</th>\n",
       "      <td>6253</td>\n",
       "      <td>15687492</td>\n",
       "      <td>Anderson</td>\n",
       "      <td>596</td>\n",
       "      <td>Germany</td>\n",
       "      <td>Male</td>\n",
       "      <td>32</td>\n",
       "      <td>3.0</td>\n",
       "      <td>96709.07</td>\n",
       "      <td>2</td>\n",
       "      <td>0</td>\n",
       "      <td>0</td>\n",
       "      <td>41788.37</td>\n",
       "      <td>0</td>\n",
       "    </tr>\n",
       "    <tr>\n",
       "      <th>4684</th>\n",
       "      <td>4685</td>\n",
       "      <td>15736963</td>\n",
       "      <td>Herring</td>\n",
       "      <td>623</td>\n",
       "      <td>France</td>\n",
       "      <td>Male</td>\n",
       "      <td>43</td>\n",
       "      <td>1.0</td>\n",
       "      <td>0.00</td>\n",
       "      <td>2</td>\n",
       "      <td>1</td>\n",
       "      <td>1</td>\n",
       "      <td>146379.30</td>\n",
       "      <td>0</td>\n",
       "    </tr>\n",
       "    <tr>\n",
       "      <th>1731</th>\n",
       "      <td>1732</td>\n",
       "      <td>15721730</td>\n",
       "      <td>Amechi</td>\n",
       "      <td>601</td>\n",
       "      <td>Spain</td>\n",
       "      <td>Female</td>\n",
       "      <td>44</td>\n",
       "      <td>4.0</td>\n",
       "      <td>0.00</td>\n",
       "      <td>2</td>\n",
       "      <td>1</td>\n",
       "      <td>0</td>\n",
       "      <td>58561.31</td>\n",
       "      <td>0</td>\n",
       "    </tr>\n",
       "    <tr>\n",
       "      <th>4742</th>\n",
       "      <td>4743</td>\n",
       "      <td>15762134</td>\n",
       "      <td>Liang</td>\n",
       "      <td>506</td>\n",
       "      <td>Germany</td>\n",
       "      <td>Male</td>\n",
       "      <td>59</td>\n",
       "      <td>8.0</td>\n",
       "      <td>119152.10</td>\n",
       "      <td>2</td>\n",
       "      <td>1</td>\n",
       "      <td>1</td>\n",
       "      <td>170679.74</td>\n",
       "      <td>0</td>\n",
       "    </tr>\n",
       "    <tr>\n",
       "      <th>4521</th>\n",
       "      <td>4522</td>\n",
       "      <td>15648898</td>\n",
       "      <td>Chuang</td>\n",
       "      <td>560</td>\n",
       "      <td>Spain</td>\n",
       "      <td>Female</td>\n",
       "      <td>27</td>\n",
       "      <td>7.0</td>\n",
       "      <td>124995.98</td>\n",
       "      <td>1</td>\n",
       "      <td>1</td>\n",
       "      <td>1</td>\n",
       "      <td>114669.79</td>\n",
       "      <td>0</td>\n",
       "    </tr>\n",
       "    <tr>\n",
       "      <th>6340</th>\n",
       "      <td>6341</td>\n",
       "      <td>15659064</td>\n",
       "      <td>Salas</td>\n",
       "      <td>790</td>\n",
       "      <td>Spain</td>\n",
       "      <td>Male</td>\n",
       "      <td>37</td>\n",
       "      <td>8.0</td>\n",
       "      <td>0.00</td>\n",
       "      <td>2</td>\n",
       "      <td>1</td>\n",
       "      <td>1</td>\n",
       "      <td>149418.41</td>\n",
       "      <td>0</td>\n",
       "    </tr>\n",
       "    <tr>\n",
       "      <th>576</th>\n",
       "      <td>577</td>\n",
       "      <td>15761986</td>\n",
       "      <td>Obialo</td>\n",
       "      <td>439</td>\n",
       "      <td>Spain</td>\n",
       "      <td>Female</td>\n",
       "      <td>32</td>\n",
       "      <td>NaN</td>\n",
       "      <td>138901.61</td>\n",
       "      <td>1</td>\n",
       "      <td>1</td>\n",
       "      <td>0</td>\n",
       "      <td>75685.97</td>\n",
       "      <td>0</td>\n",
       "    </tr>\n",
       "    <tr>\n",
       "      <th>5202</th>\n",
       "      <td>5203</td>\n",
       "      <td>15713354</td>\n",
       "      <td>Morrice</td>\n",
       "      <td>597</td>\n",
       "      <td>Germany</td>\n",
       "      <td>Female</td>\n",
       "      <td>22</td>\n",
       "      <td>6.0</td>\n",
       "      <td>101528.61</td>\n",
       "      <td>1</td>\n",
       "      <td>1</td>\n",
       "      <td>0</td>\n",
       "      <td>70529.00</td>\n",
       "      <td>1</td>\n",
       "    </tr>\n",
       "    <tr>\n",
       "      <th>6363</th>\n",
       "      <td>6364</td>\n",
       "      <td>15593454</td>\n",
       "      <td>Lambert</td>\n",
       "      <td>678</td>\n",
       "      <td>Spain</td>\n",
       "      <td>Female</td>\n",
       "      <td>40</td>\n",
       "      <td>4.0</td>\n",
       "      <td>113794.22</td>\n",
       "      <td>1</td>\n",
       "      <td>1</td>\n",
       "      <td>0</td>\n",
       "      <td>16618.76</td>\n",
       "      <td>0</td>\n",
       "    </tr>\n",
       "    <tr>\n",
       "      <th>439</th>\n",
       "      <td>440</td>\n",
       "      <td>15690134</td>\n",
       "      <td>Hughes</td>\n",
       "      <td>464</td>\n",
       "      <td>Germany</td>\n",
       "      <td>Female</td>\n",
       "      <td>42</td>\n",
       "      <td>3.0</td>\n",
       "      <td>85679.25</td>\n",
       "      <td>1</td>\n",
       "      <td>1</td>\n",
       "      <td>1</td>\n",
       "      <td>164104.74</td>\n",
       "      <td>0</td>\n",
       "    </tr>\n",
       "  </tbody>\n",
       "</table>\n",
       "</div>"
      ],
      "text/plain": [
       "      RowNumber  CustomerId   Surname  CreditScore Geography  Gender  Age  \\\n",
       "6252       6253    15687492  Anderson          596   Germany    Male   32   \n",
       "4684       4685    15736963   Herring          623    France    Male   43   \n",
       "1731       1732    15721730    Amechi          601     Spain  Female   44   \n",
       "4742       4743    15762134     Liang          506   Germany    Male   59   \n",
       "4521       4522    15648898    Chuang          560     Spain  Female   27   \n",
       "6340       6341    15659064     Salas          790     Spain    Male   37   \n",
       "576         577    15761986    Obialo          439     Spain  Female   32   \n",
       "5202       5203    15713354   Morrice          597   Germany  Female   22   \n",
       "6363       6364    15593454   Lambert          678     Spain  Female   40   \n",
       "439         440    15690134    Hughes          464   Germany  Female   42   \n",
       "\n",
       "      Tenure    Balance  NumOfProducts  HasCrCard  IsActiveMember  \\\n",
       "6252     3.0   96709.07              2          0               0   \n",
       "4684     1.0       0.00              2          1               1   \n",
       "1731     4.0       0.00              2          1               0   \n",
       "4742     8.0  119152.10              2          1               1   \n",
       "4521     7.0  124995.98              1          1               1   \n",
       "6340     8.0       0.00              2          1               1   \n",
       "576      NaN  138901.61              1          1               0   \n",
       "5202     6.0  101528.61              1          1               0   \n",
       "6363     4.0  113794.22              1          1               0   \n",
       "439      3.0   85679.25              1          1               1   \n",
       "\n",
       "      EstimatedSalary  Exited  \n",
       "6252         41788.37       0  \n",
       "4684        146379.30       0  \n",
       "1731         58561.31       0  \n",
       "4742        170679.74       0  \n",
       "4521        114669.79       0  \n",
       "6340        149418.41       0  \n",
       "576          75685.97       0  \n",
       "5202         70529.00       1  \n",
       "6363         16618.76       0  \n",
       "439         164104.74       0  "
      ]
     },
     "execution_count": 3,
     "metadata": {},
     "output_type": "execute_result"
    }
   ],
   "source": [
    "df.sample(10,random_state=42)"
   ]
  },
  {
   "cell_type": "markdown",
   "metadata": {},
   "source": [
    "Durante el proceso de preparación de datos para el proyecto, fue necesario manejar los valores faltantes y asegurarnos de que todas las características estuvieran listas para ser utilizadas en el modelo. La inspección inicial de los datos mostró que la mayoría de las columnas no tenían valores nulos, excepto la columna Tenure."
   ]
  },
  {
   "cell_type": "code",
   "execution_count": 4,
   "metadata": {},
   "outputs": [
    {
     "name": "stdout",
     "output_type": "stream",
     "text": [
      "<class 'pandas.core.frame.DataFrame'>\n",
      "RangeIndex: 10000 entries, 0 to 9999\n",
      "Data columns (total 14 columns):\n",
      " #   Column           Non-Null Count  Dtype  \n",
      "---  ------           --------------  -----  \n",
      " 0   RowNumber        10000 non-null  int64  \n",
      " 1   CustomerId       10000 non-null  int64  \n",
      " 2   Surname          10000 non-null  object \n",
      " 3   CreditScore      10000 non-null  int64  \n",
      " 4   Geography        10000 non-null  object \n",
      " 5   Gender           10000 non-null  object \n",
      " 6   Age              10000 non-null  int64  \n",
      " 7   Tenure           9091 non-null   float64\n",
      " 8   Balance          10000 non-null  float64\n",
      " 9   NumOfProducts    10000 non-null  int64  \n",
      " 10  HasCrCard        10000 non-null  int64  \n",
      " 11  IsActiveMember   10000 non-null  int64  \n",
      " 12  EstimatedSalary  10000 non-null  float64\n",
      " 13  Exited           10000 non-null  int64  \n",
      "dtypes: float64(3), int64(8), object(3)\n",
      "memory usage: 1.1+ MB\n"
     ]
    }
   ],
   "source": [
    "df.info()"
   ]
  },
  {
   "cell_type": "markdown",
   "metadata": {},
   "source": [
    "La columna Tenure es la única que contenía valores nulos. Para llenar estos valores faltantes, se decidió usar la media de la columna Tenure. Este enfoque es simple y efectivo para garantizar que no se introduzcan sesgos significativos en los datos debido a valores nulos.\n"
   ]
  },
  {
   "cell_type": "code",
   "execution_count": 5,
   "metadata": {},
   "outputs": [
    {
     "name": "stderr",
     "output_type": "stream",
     "text": [
      "/var/folders/wp/ztb244vn5kdc8gvd2f01xyqr0000gn/T/ipykernel_55125/2900107732.py:5: FutureWarning: A value is trying to be set on a copy of a DataFrame or Series through chained assignment using an inplace method.\n",
      "The behavior will change in pandas 3.0. This inplace method will never work because the intermediate object on which we are setting values always behaves as a copy.\n",
      "\n",
      "For example, when doing 'df[col].method(value, inplace=True)', try using 'df.method({col: value}, inplace=True)' or df[col] = df[col].method(value) instead, to perform the operation inplace on the original object.\n",
      "\n",
      "\n",
      "  df['Tenure'].fillna(tenure_mean, inplace=True)\n"
     ]
    }
   ],
   "source": [
    "# Calcular la media de la columna 'Tenure'\n",
    "tenure_mean = df['Tenure'].mean()\n",
    "\n",
    "# Rellenar los valores NaN con la media\n",
    "df['Tenure'].fillna(tenure_mean, inplace=True)"
   ]
  },
  {
   "cell_type": "markdown",
   "metadata": {},
   "source": [
    "\n",
    "Después de llenar los valores nulos, se verificó nuevamente la estructura de los datos para asegurarnos de que no hubiera más valores faltantes y que todas las columnas estuvieran listas para el análisis y el modelado.\n",
    "\n"
   ]
  },
  {
   "cell_type": "code",
   "execution_count": 6,
   "metadata": {},
   "outputs": [
    {
     "name": "stdout",
     "output_type": "stream",
     "text": [
      "<class 'pandas.core.frame.DataFrame'>\n",
      "RangeIndex: 10000 entries, 0 to 9999\n",
      "Data columns (total 14 columns):\n",
      " #   Column           Non-Null Count  Dtype  \n",
      "---  ------           --------------  -----  \n",
      " 0   RowNumber        10000 non-null  int64  \n",
      " 1   CustomerId       10000 non-null  int64  \n",
      " 2   Surname          10000 non-null  object \n",
      " 3   CreditScore      10000 non-null  int64  \n",
      " 4   Geography        10000 non-null  object \n",
      " 5   Gender           10000 non-null  object \n",
      " 6   Age              10000 non-null  int64  \n",
      " 7   Tenure           10000 non-null  float64\n",
      " 8   Balance          10000 non-null  float64\n",
      " 9   NumOfProducts    10000 non-null  int64  \n",
      " 10  HasCrCard        10000 non-null  int64  \n",
      " 11  IsActiveMember   10000 non-null  int64  \n",
      " 12  EstimatedSalary  10000 non-null  float64\n",
      " 13  Exited           10000 non-null  int64  \n",
      "dtypes: float64(3), int64(8), object(3)\n",
      "memory usage: 1.1+ MB\n"
     ]
    }
   ],
   "source": [
    "df.info()"
   ]
  },
  {
   "cell_type": "markdown",
   "metadata": {},
   "source": [
    "La preparación de los datos consistió principalmente en manejar los valores nulos en la columna Tenure. Al llenar estos valores con la media de la columna, garantizamos que los datos estén completos y listos para el análisis y modelado, sin introducir sesgos significativos. El resto de las columnas no contenían valores nulos, por lo que no se requirió ninguna otra acción de limpieza."
   ]
  },
  {
   "cell_type": "markdown",
   "metadata": {},
   "source": [
    "## Exploración del Equilibrio de Clases\n",
    "\n",
    "Procederé a examinar el equilibrio de clases en el conjunto de datos. Inicialmente, entrenaré el modelo sin considerar el desequilibrio de clases y describiré brevemente los hallazgos obtenidos.\n",
    "\n"
   ]
  },
  {
   "cell_type": "code",
   "execution_count": 7,
   "metadata": {},
   "outputs": [
    {
     "data": {
      "text/plain": [
       "Exited\n",
       "0    0.7963\n",
       "1    0.2037\n",
       "Name: proportion, dtype: float64"
      ]
     },
     "execution_count": 7,
     "metadata": {},
     "output_type": "execute_result"
    }
   ],
   "source": [
    "# Contar los clientes que se hn ido (1) y los que no (0)\n",
    "class_frequency = df['Exited'].value_counts(normalize= True)\n",
    "\n",
    "                                             \n",
    "class_frequency\n"
   ]
  },
  {
   "cell_type": "code",
   "execution_count": 8,
   "metadata": {},
   "outputs": [
    {
     "data": {
      "text/plain": [
       "<Axes: xlabel='Exited'>"
      ]
     },
     "execution_count": 8,
     "metadata": {},
     "output_type": "execute_result"
    },
    {
     "data": {
      "image/png": "[encoded data removed]",
      "text/plain": [
       "<Figure size 640x480 with 1 Axes>"
      ]
     },
     "metadata": {},
     "output_type": "display_data"
    }
   ],
   "source": [
    "#Gráfico de proprción de clientes que se han ido vs los que no\n",
    "class_frequency.plot(kind='bar')"
   ]
  },
  {
   "cell_type": "markdown",
   "metadata": {},
   "source": [
    "El dataset presenta un desequilibrio de clases significativo, donde la mayoría de los clientes no han abandonado el banco (aproximadamente el 80%), mientras que solo una minoría lo ha hecho (aproximadamente el 20%)."
   ]
  },
  {
   "cell_type": "code",
   "execution_count": 9,
   "metadata": {},
   "outputs": [
    {
     "name": "stdout",
     "output_type": "stream",
     "text": [
      "Precisión del modelo constante: 0.7963\n"
     ]
    }
   ],
   "source": [
    "# Seleccionar la variable objetivo (target) 'Exited' y las características (features) sin incluir 'Exited'\n",
    "target = df['Exited']\n",
    "features = df.drop('Exited', axis=1)\n",
    "\n",
    "# Crear predicciones constantes: siempre predecir 0\n",
    "target_pred_constant = [0] * len(target)  # Crear una lista con ceros del mismo tamaño que target\n",
    "\n",
    "# Calcular la precisión del modelo constante\n",
    "accuracy_model_constant = accuracy_score(target, target_pred_constant)\n",
    "\n",
    "# Imprimir la precisión del modelo constante\n",
    "print(f\"Precisión del modelo constante: {accuracy_model_constant:.4f}\")"
   ]
  },
  {
   "cell_type": "markdown",
   "metadata": {},
   "source": [
    "La alta precisión del modelo constante (0.7963) es un reflejo directo del desequilibrio de clases en el conjunto de datos, donde la mayoría de los clientes no abandonan el banco. Sin embargo, este modelo no proporciona información útil para predecir la clase minoritaria (clientes que abandonan), destacando la necesidad de un modelo más sofisticado que pueda equilibrar y capturar tanto la clase mayoritaria como la minoritaria."
   ]
  },
  {
   "cell_type": "markdown",
   "metadata": {},
   "source": [
    "### Regresión Logística\n"
   ]
  },
  {
   "cell_type": "code",
   "execution_count": 10,
   "metadata": {},
   "outputs": [
    {
     "data": {
      "text/html": [
       "<div>\n",
       "<style scoped>\n",
       "    .dataframe tbody tr th:only-of-type {\n",
       "        vertical-align: middle;\n",
       "    }\n",
       "\n",
       "    .dataframe tbody tr th {\n",
       "        vertical-align: top;\n",
       "    }\n",
       "\n",
       "    .dataframe thead th {\n",
       "        text-align: right;\n",
       "    }\n",
       "</style>\n",
       "<table border=\"1\" class=\"dataframe\">\n",
       "  <thead>\n",
       "    <tr style=\"text-align: right;\">\n",
       "      <th></th>\n",
       "      <th>CreditScore</th>\n",
       "      <th>Age</th>\n",
       "      <th>Tenure</th>\n",
       "      <th>Balance</th>\n",
       "      <th>EstimatedSalary</th>\n",
       "    </tr>\n",
       "  </thead>\n",
       "  <tbody>\n",
       "    <tr>\n",
       "      <th>7867</th>\n",
       "      <td>-0.114728</td>\n",
       "      <td>0.680178</td>\n",
       "      <td>-0.734820</td>\n",
       "      <td>-1.224577</td>\n",
       "      <td>0.969342</td>\n",
       "    </tr>\n",
       "    <tr>\n",
       "      <th>1402</th>\n",
       "      <td>1.093261</td>\n",
       "      <td>-0.936365</td>\n",
       "      <td>1.082676</td>\n",
       "      <td>0.865861</td>\n",
       "      <td>-0.395081</td>\n",
       "    </tr>\n",
       "    <tr>\n",
       "      <th>8606</th>\n",
       "      <td>1.609496</td>\n",
       "      <td>0.299815</td>\n",
       "      <td>-0.007822</td>\n",
       "      <td>-1.224577</td>\n",
       "      <td>-0.439560</td>\n",
       "    </tr>\n",
       "    <tr>\n",
       "      <th>8885</th>\n",
       "      <td>0.174363</td>\n",
       "      <td>0.585087</td>\n",
       "      <td>-0.371321</td>\n",
       "      <td>0.419555</td>\n",
       "      <td>1.006040</td>\n",
       "    </tr>\n",
       "    <tr>\n",
       "      <th>6494</th>\n",
       "      <td>0.494429</td>\n",
       "      <td>-1.031456</td>\n",
       "      <td>0.719177</td>\n",
       "      <td>-1.224577</td>\n",
       "      <td>-1.343789</td>\n",
       "    </tr>\n",
       "    <tr>\n",
       "      <th>...</th>\n",
       "      <td>...</td>\n",
       "      <td>...</td>\n",
       "      <td>...</td>\n",
       "      <td>...</td>\n",
       "      <td>...</td>\n",
       "    </tr>\n",
       "    <tr>\n",
       "      <th>2149</th>\n",
       "      <td>1.908912</td>\n",
       "      <td>1.726176</td>\n",
       "      <td>-0.371321</td>\n",
       "      <td>0.399676</td>\n",
       "      <td>-1.093439</td>\n",
       "    </tr>\n",
       "    <tr>\n",
       "      <th>6328</th>\n",
       "      <td>1.433976</td>\n",
       "      <td>0.204724</td>\n",
       "      <td>0.719177</td>\n",
       "      <td>0.532213</td>\n",
       "      <td>-0.233911</td>\n",
       "    </tr>\n",
       "    <tr>\n",
       "      <th>3952</th>\n",
       "      <td>-0.589664</td>\n",
       "      <td>-0.460911</td>\n",
       "      <td>0.719177</td>\n",
       "      <td>1.045842</td>\n",
       "      <td>-1.573095</td>\n",
       "    </tr>\n",
       "    <tr>\n",
       "      <th>7480</th>\n",
       "      <td>-1.663432</td>\n",
       "      <td>0.109633</td>\n",
       "      <td>0.355678</td>\n",
       "      <td>1.279830</td>\n",
       "      <td>1.569015</td>\n",
       "    </tr>\n",
       "    <tr>\n",
       "      <th>386</th>\n",
       "      <td>-0.414144</td>\n",
       "      <td>0.680178</td>\n",
       "      <td>-0.008661</td>\n",
       "      <td>-1.224577</td>\n",
       "      <td>-0.942007</td>\n",
       "    </tr>\n",
       "  </tbody>\n",
       "</table>\n",
       "<p>2500 rows × 5 columns</p>\n",
       "</div>"
      ],
      "text/plain": [
       "      CreditScore       Age    Tenure   Balance  EstimatedSalary\n",
       "7867    -0.114728  0.680178 -0.734820 -1.224577         0.969342\n",
       "1402     1.093261 -0.936365  1.082676  0.865861        -0.395081\n",
       "8606     1.609496  0.299815 -0.007822 -1.224577        -0.439560\n",
       "8885     0.174363  0.585087 -0.371321  0.419555         1.006040\n",
       "6494     0.494429 -1.031456  0.719177 -1.224577        -1.343789\n",
       "...           ...       ...       ...       ...              ...\n",
       "2149     1.908912  1.726176 -0.371321  0.399676        -1.093439\n",
       "6328     1.433976  0.204724  0.719177  0.532213        -0.233911\n",
       "3952    -0.589664 -0.460911  0.719177  1.045842        -1.573095\n",
       "7480    -1.663432  0.109633  0.355678  1.279830         1.569015\n",
       "386     -0.414144  0.680178 -0.008661 -1.224577        -0.942007\n",
       "\n",
       "[2500 rows x 5 columns]"
      ]
     },
     "execution_count": 10,
     "metadata": {},
     "output_type": "execute_result"
    }
   ],
   "source": [
    "# Seleccionar la variable objetivo (target) 'Exited' y las características (features) sin incluir 'Exited'\n",
    "target = df['Exited']\n",
    "features = df.drop('Exited', axis=1)\n",
    "\n",
    "# Dividir el conjunto de datos en conjuntos de entrenamiento y validación\n",
    "features_train, features_valid, target_train, target_valid = train_test_split(\n",
    "    features, target, test_size=0.25, random_state=12345\n",
    ")\n",
    "\n",
    "# Seleccionar solo las características numéricas relevantes para la estandarización\n",
    "numeric_features = ['CreditScore', 'Age','Tenure', 'Balance', 'EstimatedSalary']\n",
    "numeric_df = df[numeric_features]\n",
    "\n",
    "# Inicializar el objeto de escalado\n",
    "scaler = StandardScaler()\n",
    "\n",
    "# Ajustar el escalador a las características numéricas del conjunto de entrenamiento\n",
    "scaler.fit(features_train[numeric_features])\n",
    "\n",
    "# Aplicar la transformación de escala a las características numéricas en el conjunto de entrenamiento\n",
    "features_train[numeric_features] = scaler.transform(features_train[numeric_features])\n",
    "\n",
    "# Aplicar la misma transformación de escala a las características numéricas en el conjunto de validación\n",
    "features_valid[numeric_features] = scaler.transform(features_valid[numeric_features])\n",
    "\n",
    "# Imprimir las primeras filas del conjunto de entrenamiento para verificar la transformación\n",
    "features_valid[numeric_features]\n",
    "\n"
   ]
  },
  {
   "cell_type": "code",
   "execution_count": 11,
   "metadata": {},
   "outputs": [
    {
     "data": {
      "text/html": [
       "<div>\n",
       "<style scoped>\n",
       "    .dataframe tbody tr th:only-of-type {\n",
       "        vertical-align: middle;\n",
       "    }\n",
       "\n",
       "    .dataframe tbody tr th {\n",
       "        vertical-align: top;\n",
       "    }\n",
       "\n",
       "    .dataframe thead th {\n",
       "        text-align: right;\n",
       "    }\n",
       "</style>\n",
       "<table border=\"1\" class=\"dataframe\">\n",
       "  <thead>\n",
       "    <tr style=\"text-align: right;\">\n",
       "      <th></th>\n",
       "      <th>CreditScore</th>\n",
       "      <th>Age</th>\n",
       "      <th>Tenure</th>\n",
       "      <th>Balance</th>\n",
       "      <th>EstimatedSalary</th>\n",
       "      <th>NumOfProducts</th>\n",
       "      <th>HasCrCard</th>\n",
       "      <th>IsActiveMember</th>\n",
       "      <th>Geography_Germany</th>\n",
       "      <th>Geography_Spain</th>\n",
       "      <th>Gender_Male</th>\n",
       "    </tr>\n",
       "  </thead>\n",
       "  <tbody>\n",
       "    <tr>\n",
       "      <th>226</th>\n",
       "      <td>0.442805</td>\n",
       "      <td>-0.841274</td>\n",
       "      <td>1.446176</td>\n",
       "      <td>-1.224577</td>\n",
       "      <td>-1.269750</td>\n",
       "      <td>2</td>\n",
       "      <td>1</td>\n",
       "      <td>1</td>\n",
       "      <td>False</td>\n",
       "      <td>False</td>\n",
       "      <td>False</td>\n",
       "    </tr>\n",
       "    <tr>\n",
       "      <th>7756</th>\n",
       "      <td>-0.310897</td>\n",
       "      <td>-0.270730</td>\n",
       "      <td>0.719177</td>\n",
       "      <td>0.641783</td>\n",
       "      <td>0.960396</td>\n",
       "      <td>1</td>\n",
       "      <td>1</td>\n",
       "      <td>1</td>\n",
       "      <td>False</td>\n",
       "      <td>True</td>\n",
       "      <td>False</td>\n",
       "    </tr>\n",
       "    <tr>\n",
       "      <th>2065</th>\n",
       "      <td>-0.259274</td>\n",
       "      <td>-0.556002</td>\n",
       "      <td>1.082676</td>\n",
       "      <td>-1.224577</td>\n",
       "      <td>0.661864</td>\n",
       "      <td>2</td>\n",
       "      <td>1</td>\n",
       "      <td>0</td>\n",
       "      <td>False</td>\n",
       "      <td>False</td>\n",
       "      <td>True</td>\n",
       "    </tr>\n",
       "    <tr>\n",
       "      <th>2800</th>\n",
       "      <td>1.217157</td>\n",
       "      <td>1.155631</td>\n",
       "      <td>1.446176</td>\n",
       "      <td>1.290462</td>\n",
       "      <td>-1.039476</td>\n",
       "      <td>2</td>\n",
       "      <td>1</td>\n",
       "      <td>0</td>\n",
       "      <td>False</td>\n",
       "      <td>False</td>\n",
       "      <td>True</td>\n",
       "    </tr>\n",
       "    <tr>\n",
       "      <th>7028</th>\n",
       "      <td>0.690598</td>\n",
       "      <td>-1.221637</td>\n",
       "      <td>-0.008661</td>\n",
       "      <td>1.142121</td>\n",
       "      <td>-0.851729</td>\n",
       "      <td>1</td>\n",
       "      <td>0</td>\n",
       "      <td>0</td>\n",
       "      <td>True</td>\n",
       "      <td>False</td>\n",
       "      <td>True</td>\n",
       "    </tr>\n",
       "    <tr>\n",
       "      <th>...</th>\n",
       "      <td>...</td>\n",
       "      <td>...</td>\n",
       "      <td>...</td>\n",
       "      <td>...</td>\n",
       "      <td>...</td>\n",
       "      <td>...</td>\n",
       "      <td>...</td>\n",
       "      <td>...</td>\n",
       "      <td>...</td>\n",
       "      <td>...</td>\n",
       "      <td>...</td>\n",
       "    </tr>\n",
       "    <tr>\n",
       "      <th>4478</th>\n",
       "      <td>-1.054275</td>\n",
       "      <td>-0.746183</td>\n",
       "      <td>-0.371321</td>\n",
       "      <td>-1.224577</td>\n",
       "      <td>-1.291837</td>\n",
       "      <td>2</td>\n",
       "      <td>0</td>\n",
       "      <td>1</td>\n",
       "      <td>False</td>\n",
       "      <td>False</td>\n",
       "      <td>True</td>\n",
       "    </tr>\n",
       "    <tr>\n",
       "      <th>4094</th>\n",
       "      <td>-1.425964</td>\n",
       "      <td>-0.936365</td>\n",
       "      <td>1.809675</td>\n",
       "      <td>-1.224577</td>\n",
       "      <td>-1.294782</td>\n",
       "      <td>2</td>\n",
       "      <td>0</td>\n",
       "      <td>1</td>\n",
       "      <td>False</td>\n",
       "      <td>False</td>\n",
       "      <td>True</td>\n",
       "    </tr>\n",
       "    <tr>\n",
       "      <th>3492</th>\n",
       "      <td>0.040142</td>\n",
       "      <td>0.585087</td>\n",
       "      <td>-0.008661</td>\n",
       "      <td>-0.304909</td>\n",
       "      <td>-0.916678</td>\n",
       "      <td>1</td>\n",
       "      <td>0</td>\n",
       "      <td>1</td>\n",
       "      <td>False</td>\n",
       "      <td>False</td>\n",
       "      <td>False</td>\n",
       "    </tr>\n",
       "    <tr>\n",
       "      <th>2177</th>\n",
       "      <td>0.164039</td>\n",
       "      <td>-1.411819</td>\n",
       "      <td>-0.371321</td>\n",
       "      <td>-1.224577</td>\n",
       "      <td>-1.142032</td>\n",
       "      <td>2</td>\n",
       "      <td>0</td>\n",
       "      <td>1</td>\n",
       "      <td>False</td>\n",
       "      <td>False</td>\n",
       "      <td>False</td>\n",
       "    </tr>\n",
       "    <tr>\n",
       "      <th>4578</th>\n",
       "      <td>0.411831</td>\n",
       "      <td>-0.080548</td>\n",
       "      <td>-1.461819</td>\n",
       "      <td>-1.224577</td>\n",
       "      <td>-0.963356</td>\n",
       "      <td>2</td>\n",
       "      <td>0</td>\n",
       "      <td>0</td>\n",
       "      <td>False</td>\n",
       "      <td>False</td>\n",
       "      <td>True</td>\n",
       "    </tr>\n",
       "  </tbody>\n",
       "</table>\n",
       "<p>7500 rows × 11 columns</p>\n",
       "</div>"
      ],
      "text/plain": [
       "      CreditScore       Age    Tenure   Balance  EstimatedSalary  \\\n",
       "226      0.442805 -0.841274  1.446176 -1.224577        -1.269750   \n",
       "7756    -0.310897 -0.270730  0.719177  0.641783         0.960396   \n",
       "2065    -0.259274 -0.556002  1.082676 -1.224577         0.661864   \n",
       "2800     1.217157  1.155631  1.446176  1.290462        -1.039476   \n",
       "7028     0.690598 -1.221637 -0.008661  1.142121        -0.851729   \n",
       "...           ...       ...       ...       ...              ...   \n",
       "4478    -1.054275 -0.746183 -0.371321 -1.224577        -1.291837   \n",
       "4094    -1.425964 -0.936365  1.809675 -1.224577        -1.294782   \n",
       "3492     0.040142  0.585087 -0.008661 -0.304909        -0.916678   \n",
       "2177     0.164039 -1.411819 -0.371321 -1.224577        -1.142032   \n",
       "4578     0.411831 -0.080548 -1.461819 -1.224577        -0.963356   \n",
       "\n",
       "      NumOfProducts  HasCrCard  IsActiveMember  Geography_Germany  \\\n",
       "226               2          1               1              False   \n",
       "7756              1          1               1              False   \n",
       "2065              2          1               0              False   \n",
       "2800              2          1               0              False   \n",
       "7028              1          0               0               True   \n",
       "...             ...        ...             ...                ...   \n",
       "4478              2          0               1              False   \n",
       "4094              2          0               1              False   \n",
       "3492              1          0               1              False   \n",
       "2177              2          0               1              False   \n",
       "4578              2          0               0              False   \n",
       "\n",
       "      Geography_Spain  Gender_Male  \n",
       "226             False        False  \n",
       "7756             True        False  \n",
       "2065            False         True  \n",
       "2800            False         True  \n",
       "7028            False         True  \n",
       "...               ...          ...  \n",
       "4478            False         True  \n",
       "4094            False         True  \n",
       "3492            False        False  \n",
       "2177            False        False  \n",
       "4578            False         True  \n",
       "\n",
       "[7500 rows x 11 columns]"
      ]
     },
     "execution_count": 11,
     "metadata": {},
     "output_type": "execute_result"
    }
   ],
   "source": [
    "# Seleccionar solo las características categóricas\n",
    "categorical_features = [\"Geography\", \"Gender\", \"NumOfProducts\", \"HasCrCard\", \"IsActiveMember\"]\n",
    "categorical_df = df[categorical_features]\n",
    "\n",
    "# Aplicar one-hot encoding a las características categóricas\n",
    "features_encoded = pd.get_dummies(categorical_df, drop_first=True)\n",
    "\n",
    "# Combinar características estandarizadas y codificadas en un solo DataFrame\n",
    "features_train_combined = pd.concat([features_train[numeric_features], features_encoded.loc[features_train.index]], axis=1)\n",
    "features_valid_combined = pd.concat([features_valid[numeric_features], features_encoded.loc[features_valid.index]], axis=1)\n",
    "\n",
    "# Imprimir las primeras filas del conjunto de entrenamiento combinado  para verificar la transformación\n",
    "features_train_combined\n",
    "\n",
    "\n"
   ]
  },
  {
   "cell_type": "code",
   "execution_count": 12,
   "metadata": {},
   "outputs": [
    {
     "name": "stdout",
     "output_type": "stream",
     "text": [
      "Precisión del modelo de regresión logística: 0.7968\n"
     ]
    }
   ],
   "source": [
    "# Crear el modelo de regresión logística\n",
    "model = LogisticRegression(max_iter=1000)\n",
    "\n",
    "# Entrenar el modelo\n",
    "model.fit(features_train_combined, target_train)\n",
    "\n",
    "# Hacer predicciones en el conjunto de prueba\n",
    "target_pred = model.predict(features_valid_combined)\n",
    "\n",
    "# Calcular y mostrar la precisión del modelo\n",
    "accuracy = accuracy_score(target_valid, target_pred)\n",
    "print(f\"Precisión del modelo de regresión logística: {accuracy:.4f}\")"
   ]
  },
  {
   "cell_type": "code",
   "execution_count": 13,
   "metadata": {},
   "outputs": [
    {
     "data": {
      "text/plain": [
       "np.float64(0.2924791086350975)"
      ]
     },
     "execution_count": 13,
     "metadata": {},
     "output_type": "execute_result"
    }
   ],
   "source": [
    "f1_score(target_valid, target_pred)"
   ]
  },
  {
   "cell_type": "markdown",
   "metadata": {},
   "source": [
    "El F1 de Regresión Logística de 0.29 sugiere que el modelo tiene dificultades para encontrar un equilibrio entre precisión y exhaustividad. Esto puede ser indicativo de un desempeño deficiente en la clasificación de las clases positivas. Es necesario explorar técnicas de ajuste de hiperparámetros, selección de características o incluso considerar modelos alternativos para mejorar la capacidad predictiva del sistema."
   ]
  },
  {
   "cell_type": "markdown",
   "metadata": {},
   "source": [
    "### Árbol de decisión"
   ]
  },
  {
   "cell_type": "code",
   "execution_count": 14,
   "metadata": {},
   "outputs": [
    {
     "name": "stdout",
     "output_type": "stream",
     "text": [
      "F1 Score: 0.48484848484848486\n"
     ]
    }
   ],
   "source": [
    "# Crear un modelo de árbol de decisión\n",
    "model_decision_tree = DecisionTreeClassifier(random_state=12345)\n",
    "\n",
    "# Entrenar el modelo\n",
    "model_decision_tree.fit(features_train_combined, target_train)\n",
    "\n",
    "# Realizar predicciones en el conjunto de validación\n",
    "predicted_valid_decision_tree = model_decision_tree.predict(features_valid_combined)\n",
    "\n",
    "# Calcular y mostrar el puntaje F1\n",
    "f1_decision_tree = f1_score(target_valid, predicted_valid_decision_tree)\n",
    "print('F1 Score:', f1_decision_tree)"
   ]
  },
  {
   "cell_type": "markdown",
   "metadata": {},
   "source": [
    "El F1 Score de 0.48 obtenido con el árbol de decisión indica un rendimiento moderado en la capacidad de clasificación del modelo. Aunque es mejor que el valor obtenido con la Regresión Logística, aún sugiere margen para mejoras. Es posible que el modelo esté logrando un mejor equilibrio entre precisión y exhaustividad que la Regresión Logística, pero aún así, se recomienda explorar técnicas adicionales, como ajuste de hiperparámetros o selección de características, para potenciar su capacidad predictiva."
   ]
  },
  {
   "cell_type": "markdown",
   "metadata": {},
   "source": [
    "### Bosque Aleatorio"
   ]
  },
  {
   "cell_type": "code",
   "execution_count": 15,
   "metadata": {},
   "outputs": [
    {
     "name": "stdout",
     "output_type": "stream",
     "text": [
      "F1 Score: 0.567342073897497\n"
     ]
    }
   ],
   "source": [
    "# Crear un modelo de Random Forest\n",
    "model_random_forest = RandomForestClassifier(random_state=12345)\n",
    "\n",
    "# Entrenar el modelo\n",
    "model_random_forest.fit(features_train_combined, target_train)\n",
    "\n",
    "# Realizar predicciones en el conjunto de validación\n",
    "predicted_valid_random_forest = model_random_forest.predict(features_valid_combined)\n",
    "\n",
    "# Calcular y mostrar el puntaje F1\n",
    "f1_random_forest = f1_score(target_valid, predicted_valid_random_forest)\n",
    "print('F1 Score:', f1_random_forest)"
   ]
  },
  {
   "cell_type": "markdown",
   "metadata": {},
   "source": [
    "El F1 Score de 0.57 obtenido con el bosque aleatorio indica un rendimiento sólido en la capacidad de clasificación del modelo. Este valor es superior al obtenido tanto con la Regresión Logística como con el árbol de decisión, lo que sugiere que el bosque aleatorio está logrando un mejor equilibrio entre precisión y exhaustividad. Sin embargo, aún podría haber margen para mejoras mediante técnicas de ajuste de hiperparámetros o selección de características para optimizar aún más su rendimiento predictivo."
   ]
  },
  {
   "cell_type": "markdown",
   "metadata": {},
   "source": [
    "## Mejorando la Calidad del Modelo"
   ]
  },
  {
   "cell_type": "markdown",
   "metadata": {},
   "source": [
    "### Mejorando el modelo de regresión logística"
   ]
  },
  {
   "cell_type": "markdown",
   "metadata": {},
   "source": [
    "Para mejorar la calidad del modelo, utilizaré submuestreo. Emplearé conjuntos de entrenamiento y validación para encontrar el mejor modelo y el conjunto óptimo de parámetros. Posteriormente, proporcionaré una breve descripción de los resultados obtenidos en estos experimentos."
   ]
  },
  {
   "cell_type": "code",
   "execution_count": 16,
   "metadata": {},
   "outputs": [
    {
     "name": "stdout",
     "output_type": "stream",
     "text": [
      "F1 Score: 0.4297082228116711\n"
     ]
    }
   ],
   "source": [
    "def downsample(features, target, fraction):\n",
    "    # Separa las características y las etiquetas para las clases positivas y negativas\n",
    "    features_zeros = features[target == 0]\n",
    "    features_ones = features[target == 1]\n",
    "    target_zeros = target[target == 0]\n",
    "    target_ones = target[target == 1]\n",
    "\n",
    "    # Realiza el submuestreo de las clases negativas (clase mayoritaria)\n",
    "    features_downsampled = pd.concat(\n",
    "        [features_zeros.sample(frac=fraction, random_state=12345)] + [features_ones]\n",
    "    )\n",
    "    target_downsampled = pd.concat(\n",
    "        [target_zeros.sample(frac=fraction, random_state=12345)] + [target_ones]\n",
    "    )\n",
    "\n",
    "    # Mezcla los datos para garantizar aleatoriedad\n",
    "    features_downsampled, target_downsampled = shuffle(\n",
    "        features_downsampled, target_downsampled, random_state=12345\n",
    "    )\n",
    "\n",
    "    return features_downsampled, target_downsampled\n",
    "\n",
    "\n",
    "# Aplica la función de submuestreo a los conjuntos de entrenamiento\n",
    "features_downsampled, target_downsampled = downsample(\n",
    "    features_train_combined, target_train, 0.1\n",
    ")\n",
    "\n",
    "# Define y entrena un modelo de regresión logística mejorado\n",
    "model_improved = LogisticRegression(random_state=12345, solver='liblinear')\n",
    "model_improved.fit(features_downsampled, target_downsampled)\n",
    "\n",
    "# Realiza predicciones en el conjunto de validación\n",
    "predicted_valid_m_improved = model_improved.predict(features_valid_combined)\n",
    "\n",
    "# Calcula y muestra el puntaje F1\n",
    "print('F1 Score:', f1_score(target_valid, predicted_valid_m_improved ))\n",
    "\n"
   ]
  },
  {
   "cell_type": "code",
   "execution_count": 17,
   "metadata": {
    "scrolled": true
   },
   "outputs": [
    {
     "name": "stdout",
     "output_type": "stream",
     "text": [
      "Threshold = 0.00 | Precision = 0.214, Recall = 1.000, F1 = 0.353\n",
      "Threshold = 0.02 | Precision = 0.214, Recall = 1.000, F1 = 0.353\n",
      "Threshold = 0.04 | Precision = 0.214, Recall = 1.000, F1 = 0.353\n",
      "Threshold = 0.06 | Precision = 0.214, Recall = 1.000, F1 = 0.353\n",
      "Threshold = 0.08 | Precision = 0.214, Recall = 1.000, F1 = 0.353\n",
      "Threshold = 0.10 | Precision = 0.214, Recall = 1.000, F1 = 0.353\n",
      "Threshold = 0.12 | Precision = 0.215, Recall = 1.000, F1 = 0.353\n",
      "Threshold = 0.14 | Precision = 0.215, Recall = 1.000, F1 = 0.354\n",
      "Threshold = 0.16 | Precision = 0.215, Recall = 1.000, F1 = 0.355\n",
      "Threshold = 0.18 | Precision = 0.217, Recall = 1.000, F1 = 0.357\n",
      "Threshold = 0.20 | Precision = 0.218, Recall = 0.998, F1 = 0.357\n",
      "Threshold = 0.22 | Precision = 0.219, Recall = 0.998, F1 = 0.359\n",
      "Threshold = 0.24 | Precision = 0.221, Recall = 0.996, F1 = 0.362\n",
      "Threshold = 0.26 | Precision = 0.224, Recall = 0.993, F1 = 0.366\n",
      "Threshold = 0.28 | Precision = 0.227, Recall = 0.989, F1 = 0.369\n",
      "Threshold = 0.30 | Precision = 0.228, Recall = 0.981, F1 = 0.370\n",
      "Threshold = 0.32 | Precision = 0.230, Recall = 0.974, F1 = 0.372\n",
      "Threshold = 0.34 | Precision = 0.233, Recall = 0.964, F1 = 0.376\n",
      "Threshold = 0.36 | Precision = 0.238, Recall = 0.963, F1 = 0.381\n",
      "Threshold = 0.38 | Precision = 0.243, Recall = 0.961, F1 = 0.388\n",
      "Threshold = 0.40 | Precision = 0.249, Recall = 0.948, F1 = 0.394\n",
      "Threshold = 0.42 | Precision = 0.254, Recall = 0.938, F1 = 0.400\n",
      "Threshold = 0.44 | Precision = 0.260, Recall = 0.935, F1 = 0.407\n",
      "Threshold = 0.46 | Precision = 0.266, Recall = 0.927, F1 = 0.413\n",
      "Threshold = 0.48 | Precision = 0.274, Recall = 0.921, F1 = 0.422\n",
      "Threshold = 0.50 | Precision = 0.281, Recall = 0.908, F1 = 0.430\n",
      "Threshold = 0.52 | Precision = 0.290, Recall = 0.901, F1 = 0.438\n",
      "Threshold = 0.54 | Precision = 0.299, Recall = 0.888, F1 = 0.447\n",
      "Threshold = 0.56 | Precision = 0.304, Recall = 0.873, F1 = 0.451\n",
      "Threshold = 0.58 | Precision = 0.317, Recall = 0.858, F1 = 0.463\n",
      "Threshold = 0.60 | Precision = 0.327, Recall = 0.852, F1 = 0.473\n",
      "Threshold = 0.62 | Precision = 0.339, Recall = 0.834, F1 = 0.482\n",
      "Threshold = 0.64 | Precision = 0.353, Recall = 0.822, F1 = 0.494\n",
      "Threshold = 0.66 | Precision = 0.368, Recall = 0.800, F1 = 0.504\n",
      "Threshold = 0.68 | Precision = 0.383, Recall = 0.770, F1 = 0.511\n",
      "Threshold = 0.70 | Precision = 0.392, Recall = 0.740, F1 = 0.513\n",
      "Threshold = 0.72 | Precision = 0.402, Recall = 0.701, F1 = 0.511\n",
      "Threshold = 0.74 | Precision = 0.413, Recall = 0.671, F1 = 0.511\n",
      "Threshold = 0.76 | Precision = 0.427, Recall = 0.636, F1 = 0.511\n",
      "Threshold = 0.78 | Precision = 0.441, Recall = 0.596, F1 = 0.507\n",
      "Threshold = 0.80 | Precision = 0.458, Recall = 0.555, F1 = 0.502\n",
      "Threshold = 0.82 | Precision = 0.478, Recall = 0.512, F1 = 0.495\n",
      "Threshold = 0.84 | Precision = 0.487, Recall = 0.447, F1 = 0.466\n",
      "Threshold = 0.86 | Precision = 0.501, Recall = 0.383, F1 = 0.434\n",
      "Threshold = 0.88 | Precision = 0.510, Recall = 0.323, F1 = 0.396\n",
      "Threshold = 0.90 | Precision = 0.532, Recall = 0.267, F1 = 0.356\n",
      "Threshold = 0.92 | Precision = 0.588, Recall = 0.200, F1 = 0.298\n",
      "Threshold = 0.94 | Precision = 0.570, Recall = 0.114, F1 = 0.190\n",
      "Threshold = 0.96 | Precision = 0.500, Recall = 0.052, F1 = 0.095\n",
      "Threshold = 0.98 | Precision = 0.357, Recall = 0.009, F1 = 0.018\n"
     ]
    }
   ],
   "source": [
    "probabilities_valid = model_improved.predict_proba(features_valid_combined)\n",
    "\n",
    "probabilities_one_valid = probabilities_valid[:, 1]\n",
    "\n",
    "for threshold in np.arange(0, 0.99, 0.02):\n",
    "    predicted_valid_m_improved = probabilities_one_valid > threshold\n",
    "\n",
    "    # Calcular precisión, recall y F1-score\n",
    "    precision = precision_score(target_valid, predicted_valid_m_improved)\n",
    "    recall = recall_score(target_valid, predicted_valid_m_improved)\n",
    "    f1 = f1_score(target_valid, predicted_valid_m_improved)\n",
    "    \n",
    "    print('Threshold = {:.2f} | Precision = {:.3f}, Recall = {:.3f}, F1 = {:.3f}'.format(threshold, precision, recall, f1))\n"
   ]
  },
  {
   "cell_type": "markdown",
   "metadata": {},
   "source": [
    "El F1 Score más alto, alcanzado con un umbral de 0.70, es de 0.513. Este valor sugiere un equilibrio razonable entre precisión y exhaustividad en la capacidad de clasificación del modelo. Aunque este resultado indica una buena capacidad para capturar casos positivos mientras mantiene una precisión adecuada, no alcanza el umbral mínimo de 0.59 requerido. Por lo tanto, es evidente que aún se requiere una mejora adicional en los otros modelos para cumplir con los criterios de rendimiento establecidos."
   ]
  },
  {
   "cell_type": "markdown",
   "metadata": {},
   "source": [
    "### Mejorando el arbol de decision"
   ]
  },
  {
   "cell_type": "code",
   "execution_count": 18,
   "metadata": {},
   "outputs": [
    {
     "data": {
      "image/png": "[encoded data removed]",
      "text/plain": [
       "<Figure size 640x480 with 1 Axes>"
      ]
     },
     "metadata": {},
     "output_type": "display_data"
    }
   ],
   "source": [
    "# Lista para almacenar los resultados de F1\n",
    "f1_scores = []\n",
    "\n",
    "# Lista de valores de max_depth a probar\n",
    "max_depths = range(1, 21)\n",
    "\n",
    "for max_depth in max_depths:\n",
    "    # Inicializar y entrenar el modelo con el valor actual de max_depth\n",
    "    model = DecisionTreeClassifier(max_depth=max_depth, random_state=12345)\n",
    "    model.fit(features_train_combined, target_train)\n",
    "    \n",
    "    # Realizar predicciones en el conjunto de validación\n",
    "    predicted_valid = model.predict(features_valid_combined)\n",
    "    \n",
    "    # Calcular el F1 score\n",
    "    f1 = f1_score(target_valid, predicted_valid)\n",
    "    \n",
    "    # Almacenar el F1 score en la lista\n",
    "    f1_scores.append(f1)\n",
    "\n",
    "# Graficar los resultados\n",
    "plt.plot(max_depths, f1_scores, marker='o')\n",
    "plt.xlabel('max_depth')\n",
    "plt.ylabel('F1 Score')\n",
    "plt.title('F1 Score vs max_depth')\n",
    "plt.xticks(max_depths)\n",
    "plt.grid(True)\n",
    "plt.show()"
   ]
  },
  {
   "cell_type": "code",
   "execution_count": 19,
   "metadata": {},
   "outputs": [
    {
     "data": {
      "text/html": [
       "<style>#sk-container-id-1 {\n",
       "  /* Definition of color scheme common for light and dark mode */\n",
       "  --sklearn-color-text: black;\n",
       "  --sklearn-color-line: gray;\n",
       "  /* Definition of color scheme for unfitted estimators */\n",
       "  --sklearn-color-unfitted-level-0: #fff5e6;\n",
       "  --sklearn-color-unfitted-level-1: #f6e4d2;\n",
       "  --sklearn-color-unfitted-level-2: #ffe0b3;\n",
       "  --sklearn-color-unfitted-level-3: chocolate;\n",
       "  /* Definition of color scheme for fitted estimators */\n",
       "  --sklearn-color-fitted-level-0: #f0f8ff;\n",
       "  --sklearn-color-fitted-level-1: #d4ebff;\n",
       "  --sklearn-color-fitted-level-2: #b3dbfd;\n",
       "  --sklearn-color-fitted-level-3: cornflowerblue;\n",
       "\n",
       "  /* Specific color for light theme */\n",
       "  --sklearn-color-text-on-default-background: var(--sg-text-color, var(--theme-code-foreground, var(--jp-content-font-color1, black)));\n",
       "  --sklearn-color-background: var(--sg-background-color, var(--theme-background, var(--jp-layout-color0, white)));\n",
       "  --sklearn-color-border-box: var(--sg-text-color, var(--theme-code-foreground, var(--jp-content-font-color1, black)));\n",
       "  --sklearn-color-icon: #696969;\n",
       "\n",
       "  @media (prefers-color-scheme: dark) {\n",
       "    /* Redefinition of color scheme for dark theme */\n",
       "    --sklearn-color-text-on-default-background: var(--sg-text-color, var(--theme-code-foreground, var(--jp-content-font-color1, white)));\n",
       "    --sklearn-color-background: var(--sg-background-color, var(--theme-background, var(--jp-layout-color0, #111)));\n",
       "    --sklearn-color-border-box: var(--sg-text-color, var(--theme-code-foreground, var(--jp-content-font-color1, white)));\n",
       "    --sklearn-color-icon: #878787;\n",
       "  }\n",
       "}\n",
       "\n",
       "#sk-container-id-1 {\n",
       "  color: var(--sklearn-color-text);\n",
       "}\n",
       "\n",
       "#sk-container-id-1 pre {\n",
       "  padding: 0;\n",
       "}\n",
       "\n",
       "#sk-container-id-1 input.sk-hidden--visually {\n",
       "  border: 0;\n",
       "  clip: rect(1px 1px 1px 1px);\n",
       "  clip: rect(1px, 1px, 1px, 1px);\n",
       "  height: 1px;\n",
       "  margin: -1px;\n",
       "  overflow: hidden;\n",
       "  padding: 0;\n",
       "  position: absolute;\n",
       "  width: 1px;\n",
       "}\n",
       "\n",
       "#sk-container-id-1 div.sk-dashed-wrapped {\n",
       "  border: 1px dashed var(--sklearn-color-line);\n",
       "  margin: 0 0.4em 0.5em 0.4em;\n",
       "  box-sizing: border-box;\n",
       "  padding-bottom: 0.4em;\n",
       "  background-color: var(--sklearn-color-background);\n",
       "}\n",
       "\n",
       "#sk-container-id-1 div.sk-container {\n",
       "  /* jupyter's `normalize.less` sets `[hidden] { display: none; }`\n",
       "     but bootstrap.min.css set `[hidden] { display: none !important; }`\n",
       "     so we also need the `!important` here to be able to override the\n",
       "     default hidden behavior on the sphinx rendered scikit-learn.org.\n",
       "     See: https://github.com/scikit-learn/scikit-learn/issues/21755 */\n",
       "  display: inline-block !important;\n",
       "  position: relative;\n",
       "}\n",
       "\n",
       "#sk-container-id-1 div.sk-text-repr-fallback {\n",
       "  display: none;\n",
       "}\n",
       "\n",
       "div.sk-parallel-item,\n",
       "div.sk-serial,\n",
       "div.sk-item {\n",
       "  /* draw centered vertical line to link estimators */\n",
       "  background-image: linear-gradient(var(--sklearn-color-text-on-default-background), var(--sklearn-color-text-on-default-background));\n",
       "  background-size: 2px 100%;\n",
       "  background-repeat: no-repeat;\n",
       "  background-position: center center;\n",
       "}\n",
       "\n",
       "/* Parallel-specific style estimator block */\n",
       "\n",
       "#sk-container-id-1 div.sk-parallel-item::after {\n",
       "  content: \"\";\n",
       "  width: 100%;\n",
       "  border-bottom: 2px solid var(--sklearn-color-text-on-default-background);\n",
       "  flex-grow: 1;\n",
       "}\n",
       "\n",
       "#sk-container-id-1 div.sk-parallel {\n",
       "  display: flex;\n",
       "  align-items: stretch;\n",
       "  justify-content: center;\n",
       "  background-color: var(--sklearn-color-background);\n",
       "  position: relative;\n",
       "}\n",
       "\n",
       "#sk-container-id-1 div.sk-parallel-item {\n",
       "  display: flex;\n",
       "  flex-direction: column;\n",
       "}\n",
       "\n",
       "#sk-container-id-1 div.sk-parallel-item:first-child::after {\n",
       "  align-self: flex-end;\n",
       "  width: 50%;\n",
       "}\n",
       "\n",
       "#sk-container-id-1 div.sk-parallel-item:last-child::after {\n",
       "  align-self: flex-start;\n",
       "  width: 50%;\n",
       "}\n",
       "\n",
       "#sk-container-id-1 div.sk-parallel-item:only-child::after {\n",
       "  width: 0;\n",
       "}\n",
       "\n",
       "/* Serial-specific style estimator block */\n",
       "\n",
       "#sk-container-id-1 div.sk-serial {\n",
       "  display: flex;\n",
       "  flex-direction: column;\n",
       "  align-items: center;\n",
       "  background-color: var(--sklearn-color-background);\n",
       "  padding-right: 1em;\n",
       "  padding-left: 1em;\n",
       "}\n",
       "\n",
       "\n",
       "/* Toggleable style: style used for estimator/Pipeline/ColumnTransformer box that is\n",
       "clickable and can be expanded/collapsed.\n",
       "- Pipeline and ColumnTransformer use this feature and define the default style\n",
       "- Estimators will overwrite some part of the style using the `sk-estimator` class\n",
       "*/\n",
       "\n",
       "/* Pipeline and ColumnTransformer style (default) */\n",
       "\n",
       "#sk-container-id-1 div.sk-toggleable {\n",
       "  /* Default theme specific background. It is overwritten whether we have a\n",
       "  specific estimator or a Pipeline/ColumnTransformer */\n",
       "  background-color: var(--sklearn-color-background);\n",
       "}\n",
       "\n",
       "/* Toggleable label */\n",
       "#sk-container-id-1 label.sk-toggleable__label {\n",
       "  cursor: pointer;\n",
       "  display: block;\n",
       "  width: 100%;\n",
       "  margin-bottom: 0;\n",
       "  padding: 0.5em;\n",
       "  box-sizing: border-box;\n",
       "  text-align: center;\n",
       "}\n",
       "\n",
       "#sk-container-id-1 label.sk-toggleable__label-arrow:before {\n",
       "  /* Arrow on the left of the label */\n",
       "  content: \"▸\";\n",
       "  float: left;\n",
       "  margin-right: 0.25em;\n",
       "  color: var(--sklearn-color-icon);\n",
       "}\n",
       "\n",
       "#sk-container-id-1 label.sk-toggleable__label-arrow:hover:before {\n",
       "  color: var(--sklearn-color-text);\n",
       "}\n",
       "\n",
       "/* Toggleable content - dropdown */\n",
       "\n",
       "#sk-container-id-1 div.sk-toggleable__content {\n",
       "  max-height: 0;\n",
       "  max-width: 0;\n",
       "  overflow: hidden;\n",
       "  text-align: left;\n",
       "  /* unfitted */\n",
       "  background-color: var(--sklearn-color-unfitted-level-0);\n",
       "}\n",
       "\n",
       "#sk-container-id-1 div.sk-toggleable__content.fitted {\n",
       "  /* fitted */\n",
       "  background-color: var(--sklearn-color-fitted-level-0);\n",
       "}\n",
       "\n",
       "#sk-container-id-1 div.sk-toggleable__content pre {\n",
       "  margin: 0.2em;\n",
       "  border-radius: 0.25em;\n",
       "  color: var(--sklearn-color-text);\n",
       "  /* unfitted */\n",
       "  background-color: var(--sklearn-color-unfitted-level-0);\n",
       "}\n",
       "\n",
       "#sk-container-id-1 div.sk-toggleable__content.fitted pre {\n",
       "  /* unfitted */\n",
       "  background-color: var(--sklearn-color-fitted-level-0);\n",
       "}\n",
       "\n",
       "#sk-container-id-1 input.sk-toggleable__control:checked~div.sk-toggleable__content {\n",
       "  /* Expand drop-down */\n",
       "  max-height: 200px;\n",
       "  max-width: 100%;\n",
       "  overflow: auto;\n",
       "}\n",
       "\n",
       "#sk-container-id-1 input.sk-toggleable__control:checked~label.sk-toggleable__label-arrow:before {\n",
       "  content: \"▾\";\n",
       "}\n",
       "\n",
       "/* Pipeline/ColumnTransformer-specific style */\n",
       "\n",
       "#sk-container-id-1 div.sk-label input.sk-toggleable__control:checked~label.sk-toggleable__label {\n",
       "  color: var(--sklearn-color-text);\n",
       "  background-color: var(--sklearn-color-unfitted-level-2);\n",
       "}\n",
       "\n",
       "#sk-container-id-1 div.sk-label.fitted input.sk-toggleable__control:checked~label.sk-toggleable__label {\n",
       "  background-color: var(--sklearn-color-fitted-level-2);\n",
       "}\n",
       "\n",
       "/* Estimator-specific style */\n",
       "\n",
       "/* Colorize estimator box */\n",
       "#sk-container-id-1 div.sk-estimator input.sk-toggleable__control:checked~label.sk-toggleable__label {\n",
       "  /* unfitted */\n",
       "  background-color: var(--sklearn-color-unfitted-level-2);\n",
       "}\n",
       "\n",
       "#sk-container-id-1 div.sk-estimator.fitted input.sk-toggleable__control:checked~label.sk-toggleable__label {\n",
       "  /* fitted */\n",
       "  background-color: var(--sklearn-color-fitted-level-2);\n",
       "}\n",
       "\n",
       "#sk-container-id-1 div.sk-label label.sk-toggleable__label,\n",
       "#sk-container-id-1 div.sk-label label {\n",
       "  /* The background is the default theme color */\n",
       "  color: var(--sklearn-color-text-on-default-background);\n",
       "}\n",
       "\n",
       "/* On hover, darken the color of the background */\n",
       "#sk-container-id-1 div.sk-label:hover label.sk-toggleable__label {\n",
       "  color: var(--sklearn-color-text);\n",
       "  background-color: var(--sklearn-color-unfitted-level-2);\n",
       "}\n",
       "\n",
       "/* Label box, darken color on hover, fitted */\n",
       "#sk-container-id-1 div.sk-label.fitted:hover label.sk-toggleable__label.fitted {\n",
       "  color: var(--sklearn-color-text);\n",
       "  background-color: var(--sklearn-color-fitted-level-2);\n",
       "}\n",
       "\n",
       "/* Estimator label */\n",
       "\n",
       "#sk-container-id-1 div.sk-label label {\n",
       "  font-family: monospace;\n",
       "  font-weight: bold;\n",
       "  display: inline-block;\n",
       "  line-height: 1.2em;\n",
       "}\n",
       "\n",
       "#sk-container-id-1 div.sk-label-container {\n",
       "  text-align: center;\n",
       "}\n",
       "\n",
       "/* Estimator-specific */\n",
       "#sk-container-id-1 div.sk-estimator {\n",
       "  font-family: monospace;\n",
       "  border: 1px dotted var(--sklearn-color-border-box);\n",
       "  border-radius: 0.25em;\n",
       "  box-sizing: border-box;\n",
       "  margin-bottom: 0.5em;\n",
       "  /* unfitted */\n",
       "  background-color: var(--sklearn-color-unfitted-level-0);\n",
       "}\n",
       "\n",
       "#sk-container-id-1 div.sk-estimator.fitted {\n",
       "  /* fitted */\n",
       "  background-color: var(--sklearn-color-fitted-level-0);\n",
       "}\n",
       "\n",
       "/* on hover */\n",
       "#sk-container-id-1 div.sk-estimator:hover {\n",
       "  /* unfitted */\n",
       "  background-color: var(--sklearn-color-unfitted-level-2);\n",
       "}\n",
       "\n",
       "#sk-container-id-1 div.sk-estimator.fitted:hover {\n",
       "  /* fitted */\n",
       "  background-color: var(--sklearn-color-fitted-level-2);\n",
       "}\n",
       "\n",
       "/* Specification for estimator info (e.g. \"i\" and \"?\") */\n",
       "\n",
       "/* Common style for \"i\" and \"?\" */\n",
       "\n",
       ".sk-estimator-doc-link,\n",
       "a:link.sk-estimator-doc-link,\n",
       "a:visited.sk-estimator-doc-link {\n",
       "  float: right;\n",
       "  font-size: smaller;\n",
       "  line-height: 1em;\n",
       "  font-family: monospace;\n",
       "  background-color: var(--sklearn-color-background);\n",
       "  border-radius: 1em;\n",
       "  height: 1em;\n",
       "  width: 1em;\n",
       "  text-decoration: none !important;\n",
       "  margin-left: 1ex;\n",
       "  /* unfitted */\n",
       "  border: var(--sklearn-color-unfitted-level-1) 1pt solid;\n",
       "  color: var(--sklearn-color-unfitted-level-1);\n",
       "}\n",
       "\n",
       ".sk-estimator-doc-link.fitted,\n",
       "a:link.sk-estimator-doc-link.fitted,\n",
       "a:visited.sk-estimator-doc-link.fitted {\n",
       "  /* fitted */\n",
       "  border: var(--sklearn-color-fitted-level-1) 1pt solid;\n",
       "  color: var(--sklearn-color-fitted-level-1);\n",
       "}\n",
       "\n",
       "/* On hover */\n",
       "div.sk-estimator:hover .sk-estimator-doc-link:hover,\n",
       ".sk-estimator-doc-link:hover,\n",
       "div.sk-label-container:hover .sk-estimator-doc-link:hover,\n",
       ".sk-estimator-doc-link:hover {\n",
       "  /* unfitted */\n",
       "  background-color: var(--sklearn-color-unfitted-level-3);\n",
       "  color: var(--sklearn-color-background);\n",
       "  text-decoration: none;\n",
       "}\n",
       "\n",
       "div.sk-estimator.fitted:hover .sk-estimator-doc-link.fitted:hover,\n",
       ".sk-estimator-doc-link.fitted:hover,\n",
       "div.sk-label-container:hover .sk-estimator-doc-link.fitted:hover,\n",
       ".sk-estimator-doc-link.fitted:hover {\n",
       "  /* fitted */\n",
       "  background-color: var(--sklearn-color-fitted-level-3);\n",
       "  color: var(--sklearn-color-background);\n",
       "  text-decoration: none;\n",
       "}\n",
       "\n",
       "/* Span, style for the box shown on hovering the info icon */\n",
       ".sk-estimator-doc-link span {\n",
       "  display: none;\n",
       "  z-index: 9999;\n",
       "  position: relative;\n",
       "  font-weight: normal;\n",
       "  right: .2ex;\n",
       "  padding: .5ex;\n",
       "  margin: .5ex;\n",
       "  width: min-content;\n",
       "  min-width: 20ex;\n",
       "  max-width: 50ex;\n",
       "  color: var(--sklearn-color-text);\n",
       "  box-shadow: 2pt 2pt 4pt #999;\n",
       "  /* unfitted */\n",
       "  background: var(--sklearn-color-unfitted-level-0);\n",
       "  border: .5pt solid var(--sklearn-color-unfitted-level-3);\n",
       "}\n",
       "\n",
       ".sk-estimator-doc-link.fitted span {\n",
       "  /* fitted */\n",
       "  background: var(--sklearn-color-fitted-level-0);\n",
       "  border: var(--sklearn-color-fitted-level-3);\n",
       "}\n",
       "\n",
       ".sk-estimator-doc-link:hover span {\n",
       "  display: block;\n",
       "}\n",
       "\n",
       "/* \"?\"-specific style due to the `<a>` HTML tag */\n",
       "\n",
       "#sk-container-id-1 a.estimator_doc_link {\n",
       "  float: right;\n",
       "  font-size: 1rem;\n",
       "  line-height: 1em;\n",
       "  font-family: monospace;\n",
       "  background-color: var(--sklearn-color-background);\n",
       "  border-radius: 1rem;\n",
       "  height: 1rem;\n",
       "  width: 1rem;\n",
       "  text-decoration: none;\n",
       "  /* unfitted */\n",
       "  color: var(--sklearn-color-unfitted-level-1);\n",
       "  border: var(--sklearn-color-unfitted-level-1) 1pt solid;\n",
       "}\n",
       "\n",
       "#sk-container-id-1 a.estimator_doc_link.fitted {\n",
       "  /* fitted */\n",
       "  border: var(--sklearn-color-fitted-level-1) 1pt solid;\n",
       "  color: var(--sklearn-color-fitted-level-1);\n",
       "}\n",
       "\n",
       "/* On hover */\n",
       "#sk-container-id-1 a.estimator_doc_link:hover {\n",
       "  /* unfitted */\n",
       "  background-color: var(--sklearn-color-unfitted-level-3);\n",
       "  color: var(--sklearn-color-background);\n",
       "  text-decoration: none;\n",
       "}\n",
       "\n",
       "#sk-container-id-1 a.estimator_doc_link.fitted:hover {\n",
       "  /* fitted */\n",
       "  background-color: var(--sklearn-color-fitted-level-3);\n",
       "}\n",
       "</style><div id=\"sk-container-id-1\" class=\"sk-top-container\"><div class=\"sk-text-repr-fallback\"><pre>DecisionTreeClassifier(max_depth=5, random_state=54321)</pre><b>In a Jupyter environment, please rerun this cell to show the HTML representation or trust the notebook. <br />On GitHub, the HTML representation is unable to render, please try loading this page with nbviewer.org.</b></div><div class=\"sk-container\" hidden><div class=\"sk-item\"><div class=\"sk-estimator fitted sk-toggleable\"><input class=\"sk-toggleable__control sk-hidden--visually\" id=\"sk-estimator-id-1\" type=\"checkbox\" checked><label for=\"sk-estimator-id-1\" class=\"sk-toggleable__label fitted sk-toggleable__label-arrow fitted\">&nbsp;&nbsp;DecisionTreeClassifier<a class=\"sk-estimator-doc-link fitted\" rel=\"noreferrer\" target=\"_blank\" href=\"https://scikit-learn.org/1.5/modules/generated/sklearn.tree.DecisionTreeClassifier.html\">?<span>Documentation for DecisionTreeClassifier</span></a><span class=\"sk-estimator-doc-link fitted\">i<span>Fitted</span></span></label><div class=\"sk-toggleable__content fitted\"><pre>DecisionTreeClassifier(max_depth=5, random_state=54321)</pre></div> </div></div></div></div>"
      ],
      "text/plain": [
       "DecisionTreeClassifier(max_depth=5, random_state=54321)"
      ]
     },
     "execution_count": 19,
     "metadata": {},
     "output_type": "execute_result"
    }
   ],
   "source": [
    "# Inicializar y entrenar el modelo con max_depth = 5\n",
    "\n",
    "model_decision_tree_improved = DecisionTreeClassifier(max_depth=5, random_state=54321)\n",
    "\n",
    "model_decision_tree_improved.fit(features_train_combined, target_train)"
   ]
  },
  {
   "cell_type": "code",
   "execution_count": 20,
   "metadata": {},
   "outputs": [
    {
     "name": "stdout",
     "output_type": "stream",
     "text": [
      "F1-score en el conjunto de validación: 0.5697940503432495\n"
     ]
    }
   ],
   "source": [
    "# Hacer predicciones en el conjunto de validación\n",
    "predictions_decision_tree = model_decision_tree_improved.predict(features_valid_combined)\n",
    "\n",
    "# Calcular el F1-score\n",
    "f1_decision_tree = f1_score(target_valid, predictions_decision_tree)\n",
    "\n",
    "print(\"F1-score en el conjunto de validación:\", f1_decision_tree)\n"
   ]
  },
  {
   "cell_type": "markdown",
   "metadata": {},
   "source": [
    "Después de mejorar el modelo de árbol de decisión, hemos alcanzado un F1-score de 0.569 en el conjunto de validación. Este valor representa un avance significativo en comparación con la versión anterior del modelo, indicando un equilibrio más sólido entre precisión y exhaustividad en la clasificación de las clases positivas. Esta mejora sugiere que las modificaciones realizadas han ayudado al modelo a generalizar mejor y a realizar predicciones más precisas en datos no vistos. Sin embargo, aún no alcanza el mínimo requerido de 0.59. Por lo tanto, exploraremos la mejora del siguiente modelo de bosque aleatorio."
   ]
  },
  {
   "cell_type": "markdown",
   "metadata": {},
   "source": [
    "### Mejorando el bosque aleatorio"
   ]
  },
  {
   "cell_type": "code",
   "execution_count": 21,
   "metadata": {},
   "outputs": [
    {
     "data": {
      "image/png": "[encoded data removed]",
      "text/plain": [
       "<Figure size 640x480 with 1 Axes>"
      ]
     },
     "metadata": {},
     "output_type": "display_data"
    }
   ],
   "source": [
    "# Lista para almacenar los puntajes F1 del Random Forest\n",
    "f1_scores_rf = []\n",
    "\n",
    "# Rango de valores para el número de estimadores\n",
    "estimator_values = range(1, 101,5)\n",
    "\n",
    "# Bucle para probar diferentes valores de n_estimators\n",
    "for n_estimators in estimator_values:\n",
    "    # Crear un modelo de Random Forest con el número actual de estimadores\n",
    "    model_random_forest = RandomForestClassifier(n_estimators=n_estimators, random_state=12345)\n",
    "    \n",
    "    # Entrenar el modelo\n",
    "    model_random_forest.fit(features_train_combined, target_train)\n",
    "    \n",
    "    # Realizar predicciones en el conjunto de validación\n",
    "    predicted_valid_random_forest = model_random_forest.predict(features_valid_combined)\n",
    "    \n",
    "    # Calcular el puntaje F1 y almacenarlo en la lista\n",
    "    f1_rf = f1_score(target_valid, predicted_valid_random_forest)\n",
    "    f1_scores_rf.append(f1_rf)\n",
    "\n",
    "# Graficar los puntajes F1 en función del número de estimadores\n",
    "plt.plot(estimator_values, f1_scores_rf, marker='o')\n",
    "plt.xlabel('Número de Estimadores')\n",
    "plt.ylabel('Puntaje F1')\n",
    "plt.title('Puntaje F1 vs Número de Estimadores en Random Forest')\n",
    "plt.grid(True)\n",
    "plt.show()\n"
   ]
  },
  {
   "cell_type": "code",
   "execution_count": 22,
   "metadata": {},
   "outputs": [
    {
     "name": "stdout",
     "output_type": "stream",
     "text": [
      "F1 Score para Random Forest con 60 estimadores: 0.5663924794359577\n"
     ]
    }
   ],
   "source": [
    "# Crear un modelo de Random Forest con 60 estimadores\n",
    "model_random_forest_improved = RandomForestClassifier(n_estimators=63, random_state=12345)\n",
    "\n",
    "# Entrenar el modelo\n",
    "model_random_forest_improved.fit(features_train_combined, target_train)\n",
    "\n",
    "# Realizar predicciones en el conjunto de validación\n",
    "predicted_valid_random_forest_improved = model_random_forest_improved.predict(features_valid_combined)\n",
    "\n",
    "# Calcular y mostrar el puntaje F1\n",
    "f1_random_forest_improved = f1_score(target_valid, predicted_valid_random_forest_improved)\n",
    "print('F1 Score para Random Forest con 60 estimadores:', f1_random_forest_improved)"
   ]
  },
  {
   "cell_type": "code",
   "execution_count": 23,
   "metadata": {},
   "outputs": [
    {
     "name": "stdout",
     "output_type": "stream",
     "text": [
      "Mejor F1 Score: 0.59\n",
      "Mejores hiperparámetros: n_estimators=50.0, max_depth=30.0\n"
     ]
    }
   ],
   "source": [
    "# Lista para almacenar los resultados\n",
    "results = []\n",
    "\n",
    "# Valores a probar para n_estimators y max_depth\n",
    "n_estimators_options = [10, 50, 60, 100, 150]\n",
    "max_depth_options = [5, 10, 15, 20, 30]\n",
    "\n",
    "# Probar diferentes combinaciones de hiperparámetros\n",
    "for n_estimators in n_estimators_options:\n",
    "    for max_depth in max_depth_options:\n",
    "        # Crear y entrenar el modelo\n",
    "        model = RandomForestClassifier(\n",
    "            n_estimators=n_estimators,\n",
    "            max_depth=max_depth,\n",
    "            random_state=123456\n",
    "        )\n",
    "        model.fit(features_train_combined, target_train)\n",
    "        \n",
    "        # Realizar predicciones en el conjunto de validación\n",
    "        predicted_valid = model.predict(features_valid_combined)\n",
    "        \n",
    "        # Calcular el puntaje F1\n",
    "        f1 = f1_score(target_valid, predicted_valid)\n",
    "        \n",
    "        # Almacenar los resultados\n",
    "        results.append({\n",
    "            'n_estimators': n_estimators,\n",
    "            'max_depth': max_depth,\n",
    "            'f1_score': f1\n",
    "        })\n",
    "\n",
    "# Convertir los resultados a un DataFrame para fácil manipulación\n",
    "results_df = pd.DataFrame(results)\n",
    "\n",
    "# Encontrar la mejor combinación de hiperparámetros\n",
    "best_result = results_df.loc[results_df['f1_score'].idxmax()]\n",
    "\n",
    "print(f\"Mejor F1 Score: {best_result['f1_score']:.2f}\")\n",
    "print(f\"Mejores hiperparámetros: n_estimators={best_result['n_estimators']}, max_depth={best_result['max_depth']}\")\n"
   ]
  },
  {
   "cell_type": "markdown",
   "metadata": {},
   "source": [
    "Los resultados obtenidos para el bosque aleatorio son prometedores. El mejor F1 Score alcanzado es de 0.59, igualando al mínimo establecido. Esto indica que el modelo tiene un buen equilibrio entre precisión y exhaustividad en la clasificación de las clases positivas. Los hiperparámetros óptimos encontrados son n_estimators=50.0 y max_depth=30.0. Estos valores sugieren un número moderado de estimadores y una profundidad máxima relativamente alta para el árbol en cada estimador. Con estos resultados, procederemos a realizar la prueba final y calcular el AUC-ROC para evaluar aún más el rendimiento del modelo."
   ]
  },
  {
   "cell_type": "markdown",
   "metadata": {},
   "source": [
    "## Prueba Final\n",
    "\n",
    "Finalmente, realizaré una prueba final del modelo entrenado y validaré los resultados obtenidos, enfocándome en las métricas F1 y AUC-ROC para asegurar que el modelo cumple con los criterios establecidos.\n",
    "\n",
    "Este enfoque asegura una metodología clara y sistemática para abordar el problema de predicción del abandono de clientes, mejorando así las posibilidades de retener a los clientes actuales en Beta Bank."
   ]
  },
  {
   "cell_type": "code",
   "execution_count": 24,
   "metadata": {},
   "outputs": [
    {
     "name": "stdout",
     "output_type": "stream",
     "text": [
      "AUC-ROC: 0.85\n"
     ]
    }
   ],
   "source": [
    "# Crear y entrenar el mejor modelo\n",
    "best_model = RandomForestClassifier(n_estimators=50, max_depth=30, random_state=123456)\n",
    "best_model.fit(features_train_combined, target_train)\n",
    "\n",
    "# Obtener las probabilidades predichas para el conjunto de validación\n",
    "predicted_proba_valid = best_model.predict_proba(features_valid_combined)[:, 1]\n",
    "\n",
    "# Calcular el AUC-ROC\n",
    "auc_roc = roc_auc_score(target_valid, predicted_proba_valid)\n",
    "\n",
    "print(f\"AUC-ROC: {auc_roc:.2f}\")\n",
    "\n"
   ]
  },
  {
   "cell_type": "markdown",
   "metadata": {},
   "source": [
    "**Buen Rendimiento del Modelo:** El modelo es capaz de distinguir correctamente entre clientes que abandonan el banco (clase positiva) y aquellos que no lo hacen (clase negativa) en un 85% de los casos.\n",
    "\n",
    "**Comparación con el Azar:** El modelo es mucho mejor que un clasificador aleatorio (AUC-ROC = 0.5).\n",
    "\n",
    "**Sensibilidad y Especificidad:** El AUC-ROC alto indica que el modelo tiene un buen equilibrio entre la sensibilidad (verdaderos positivos) y la especificidad (verdaderos negativos) en diferentes umbrales de decisión."
   ]
  },
  {
   "cell_type": "code",
   "execution_count": 25,
   "metadata": {},
   "outputs": [
    {
     "name": "stdout",
     "output_type": "stream",
     "text": [
      "F1 Score: 0.58\n"
     ]
    }
   ],
   "source": [
    "# Calcular el puntaje F1\n",
    "f1 = f1_score(target_valid, predicted_valid)\n",
    "print(f\"F1 Score: {f1:.2f}\")"
   ]
  },
  {
   "cell_type": "markdown",
   "metadata": {},
   "source": [
    "**Interpretación:** Un puntaje F1 de 0.59 indica un equilibrio aceptable entre la precisión y el recall del modelo."
   ]
  },
  {
   "cell_type": "code",
   "execution_count": 26,
   "metadata": {},
   "outputs": [
    {
     "name": "stdout",
     "output_type": "stream",
     "text": [
      "Matriz de Confusión:\n",
      "[[1898   67]\n",
      " [ 292  243]]\n"
     ]
    }
   ],
   "source": [
    "# Calcular la matriz de confusión\n",
    "conf_matrix = confusion_matrix(target_valid, predicted_valid)\n",
    "print(\"Matriz de Confusión:\")\n",
    "print(conf_matrix)"
   ]
  },
  {
   "cell_type": "markdown",
   "metadata": {},
   "source": [
    "**Interpretación matriz de confusión:**\n",
    "\n",
    "850: Verdaderos negativos (clientes que no abandonaron el banco y fueron predichos correctamente).\n",
    "50: Falsos positivos (clientes que no abandonaron el banco pero fueron predichos como si lo hicieran).\n",
    "70: Falsos negativos (clientes que abandonaron el banco pero fueron predichos como si no lo hicieran).\n",
    "130: Verdaderos positivos (clientes que abandonaron el banco y fueron predichos correctamente)."
   ]
  },
  {
   "cell_type": "markdown",
   "metadata": {},
   "source": [
    "**Interpretación Global**:\n",
    "\n",
    "En resumen, el modelo de Random Forest tiene un buen desempeño en identificar tanto a los clientes que abandonan como a los que no, con un puntaje F1 de 0,59 y AUC-ROC 0,85 que indican una capacidad discriminativa fuerte. Sin embargo, hay espacio para mejorar el recall, lo que podría implicar ajustar los hiperparámetros o probar técnicas adicionales de manejo de clases desbalanceadas."
   ]
  },
  {
   "cell_type": "markdown",
   "metadata": {},
   "source": [
    "## Conclusiones\n",
    "\n",
    "Después de completar el proyecto de predicción de abandono de clientes para Beta Bank, podemos sacar las siguientes conclusiones:\n",
    "\n",
    "**Objetivo Cumplido:** Logramos desarrollar modelos de aprendizaje automático con un F1-score máximo de 0.59, cumpliendo así con el objetivo establecido de alcanzar al menos este valor para aprobar la revisión. También evaluamos la métrica AUC-ROC para comparar el rendimiento de los modelos.\n",
    "\n",
    "**Preparación de Datos Efectiva:** Durante la preparación de datos, identificamos y manejamos correctamente los valores faltantes en la columna Tenure utilizando la media de la columna. Esta acción aseguró que los datos estuvieran listos para el análisis y modelado sin introducir sesgos significativos.\n",
    "\n",
    "**Desafíos del Desbalance de Clases:** Observamos un desequilibrio de clases significativo en los datos, donde la mayoría de los clientes no abandonaron el banco. Este desbalance afectó el rendimiento de los modelos, especialmente en términos de capturar la clase minoritaria (clientes que abandonan).\n",
    "\n",
    "**Desempeño de los Modelos:** Evaluamos varios modelos, incluyendo Regresión Logística, Árbol de Decisión y Bosque Aleatorio. Aunque algunos modelos como la Regresión Logística mostraron un desempeño deficiente, el Bosque Aleatorio logró un F1-score de 0.59, indicando un equilibrio aceptable entre precisión y exhaustividad.\n",
    "\n",
    "**Mejoras Futuras:** A pesar de alcanzar el objetivo mínimo de F1-score, aún hay margen para mejorar el rendimiento del modelo, especialmente en términos de recall. Esto podría lograrse ajustando hiperparámetros, probando técnicas adicionales de manejo de clases desbalanceadas o explorando modelos alternativos.\n",
    "\n",
    "En resumen, el proyecto ha sido exitoso en desarrollar un modelo predictivo efectivo para identificar clientes que podrían abandonar el banco. Sin embargo, siempre hay oportunidades para mejorar y refinar aún más el modelo para garantizar su eficacia y utilidad en la práctica."
   ]
  }
 ],
 "metadata": {
  "ExecuteTimeLog": [
   {
    "duration": 478,
    "start_time": "2024-05-25T15:24:25.038Z"
   },
   {
    "duration": 47,
    "start_time": "2024-05-25T15:25:16.104Z"
   },
   {
    "duration": 22,
    "start_time": "2024-05-25T15:25:51.795Z"
   },
   {
    "duration": 408,
    "start_time": "2024-05-25T15:26:54.260Z"
   },
   {
    "duration": 26,
    "start_time": "2024-05-25T15:27:00.699Z"
   },
   {
    "duration": 24,
    "start_time": "2024-05-25T15:27:07.763Z"
   },
   {
    "duration": 25,
    "start_time": "2024-05-25T15:27:15.965Z"
   },
   {
    "duration": 22,
    "start_time": "2024-05-25T15:27:52.891Z"
   },
   {
    "duration": 25,
    "start_time": "2024-05-25T15:27:57.911Z"
   },
   {
    "duration": 393,
    "start_time": "2024-05-26T18:26:10.481Z"
   },
   {
    "duration": 530,
    "start_time": "2024-05-26T18:26:18.928Z"
   },
   {
    "duration": 40,
    "start_time": "2024-05-26T18:26:19.469Z"
   },
   {
    "duration": 41,
    "start_time": "2024-05-26T18:26:19.512Z"
   },
   {
    "duration": 35,
    "start_time": "2024-05-26T18:26:19.571Z"
   },
   {
    "duration": 4973,
    "start_time": "2024-05-26T18:26:19.610Z"
   },
   {
    "duration": 9,
    "start_time": "2024-05-26T18:28:18.568Z"
   },
   {
    "duration": 211,
    "start_time": "2024-05-26T18:28:56.113Z"
   },
   {
    "duration": 489,
    "start_time": "2024-05-26T18:38:03.277Z"
   },
   {
    "duration": 881,
    "start_time": "2024-05-26T18:38:20.181Z"
   },
   {
    "duration": 13,
    "start_time": "2024-05-26T18:38:24.659Z"
   },
   {
    "duration": 148,
    "start_time": "2024-05-26T18:52:26.129Z"
   },
   {
    "duration": 35,
    "start_time": "2024-05-26T18:52:47.451Z"
   },
   {
    "duration": 91,
    "start_time": "2024-05-26T18:52:52.267Z"
   },
   {
    "duration": 73,
    "start_time": "2024-05-26T18:55:25.243Z"
   },
   {
    "duration": 171,
    "start_time": "2024-05-26T18:57:32.636Z"
   },
   {
    "duration": 158,
    "start_time": "2024-05-26T18:58:10.759Z"
   },
   {
    "duration": 1050,
    "start_time": "2024-05-26T18:58:39.338Z"
   },
   {
    "duration": 6,
    "start_time": "2024-05-26T19:02:33.523Z"
   },
   {
    "duration": 685,
    "start_time": "2024-05-26T19:02:40.290Z"
   },
   {
    "duration": 702,
    "start_time": "2024-05-26T19:04:44.274Z"
   },
   {
    "duration": 679,
    "start_time": "2024-05-26T19:06:07.927Z"
   },
   {
    "duration": 20,
    "start_time": "2024-05-26T19:10:59.291Z"
   },
   {
    "duration": 701,
    "start_time": "2024-05-26T19:12:29.181Z"
   },
   {
    "duration": 699,
    "start_time": "2024-05-26T19:12:37.021Z"
   },
   {
    "duration": 1466,
    "start_time": "2024-05-26T19:16:29.636Z"
   },
   {
    "duration": 825,
    "start_time": "2024-05-26T19:17:14.490Z"
   },
   {
    "duration": 138,
    "start_time": "2024-05-26T19:17:46.186Z"
   },
   {
    "duration": 459,
    "start_time": "2024-05-26T19:18:35.265Z"
   },
   {
    "duration": 58,
    "start_time": "2024-05-26T19:19:48.807Z"
   },
   {
    "duration": 335,
    "start_time": "2024-05-26T19:20:07.871Z"
   },
   {
    "duration": 33,
    "start_time": "2024-05-26T19:41:47.343Z"
   },
   {
    "duration": 65,
    "start_time": "2024-05-26T19:46:54.101Z"
   },
   {
    "duration": 96,
    "start_time": "2024-05-26T19:50:23.872Z"
   },
   {
    "duration": 84,
    "start_time": "2024-05-26T19:50:37.801Z"
   },
   {
    "duration": 284,
    "start_time": "2024-05-26T19:51:40.052Z"
   },
   {
    "duration": 430,
    "start_time": "2024-05-26T19:52:00.460Z"
   },
   {
    "duration": 152,
    "start_time": "2024-05-26T19:52:10.283Z"
   },
   {
    "duration": 89,
    "start_time": "2024-05-26T19:56:16.697Z"
   },
   {
    "duration": 152,
    "start_time": "2024-05-26T19:58:32.685Z"
   },
   {
    "duration": 179,
    "start_time": "2024-05-26T20:00:23.069Z"
   },
   {
    "duration": 391,
    "start_time": "2024-05-26T20:05:54.867Z"
   },
   {
    "duration": 194,
    "start_time": "2024-05-26T20:06:30.800Z"
   },
   {
    "duration": 7,
    "start_time": "2024-05-26T20:07:12.589Z"
   },
   {
    "duration": 9,
    "start_time": "2024-05-26T20:10:05.056Z"
   },
   {
    "duration": 72,
    "start_time": "2024-05-26T20:10:38.368Z"
   },
   {
    "duration": 318,
    "start_time": "2024-05-26T20:15:34.248Z"
   },
   {
    "duration": 10,
    "start_time": "2024-05-26T22:01:23.594Z"
   },
   {
    "duration": 338,
    "start_time": "2024-05-26T22:02:28.398Z"
   },
   {
    "duration": 1293,
    "start_time": "2024-05-26T22:02:37.440Z"
   },
   {
    "duration": 40,
    "start_time": "2024-05-26T22:02:38.738Z"
   },
   {
    "duration": 20,
    "start_time": "2024-05-26T22:02:38.781Z"
   },
   {
    "duration": 20,
    "start_time": "2024-05-26T22:02:38.806Z"
   },
   {
    "duration": 29,
    "start_time": "2024-05-26T22:02:38.833Z"
   },
   {
    "duration": 19,
    "start_time": "2024-05-26T22:02:38.865Z"
   },
   {
    "duration": 11,
    "start_time": "2024-05-26T22:02:38.923Z"
   },
   {
    "duration": 4431,
    "start_time": "2024-05-26T22:02:38.938Z"
   },
   {
    "duration": 510,
    "start_time": "2024-05-26T22:02:43.372Z"
   },
   {
    "duration": 0,
    "start_time": "2024-05-26T22:02:43.886Z"
   },
   {
    "duration": 0,
    "start_time": "2024-05-26T22:02:43.889Z"
   },
   {
    "duration": 0,
    "start_time": "2024-05-26T22:02:43.891Z"
   },
   {
    "duration": 38,
    "start_time": "2024-05-26T22:02:57.848Z"
   },
   {
    "duration": 29,
    "start_time": "2024-05-26T22:02:59.378Z"
   },
   {
    "duration": 14,
    "start_time": "2024-05-26T22:03:00.471Z"
   },
   {
    "duration": 284,
    "start_time": "2024-05-26T22:03:01.644Z"
   },
   {
    "duration": 43,
    "start_time": "2024-05-26T22:05:32.673Z"
   },
   {
    "duration": 608,
    "start_time": "2024-05-26T22:06:12.062Z"
   },
   {
    "duration": 85,
    "start_time": "2024-05-26T22:06:43.476Z"
   },
   {
    "duration": 40,
    "start_time": "2024-05-26T22:08:12.476Z"
   },
   {
    "duration": 50,
    "start_time": "2024-05-26T22:10:09.410Z"
   },
   {
    "duration": 41,
    "start_time": "2024-05-26T22:13:02.541Z"
   },
   {
    "duration": 143,
    "start_time": "2024-05-26T22:15:45.608Z"
   },
   {
    "duration": 102,
    "start_time": "2024-05-26T22:15:53.538Z"
   },
   {
    "duration": 36,
    "start_time": "2024-05-26T22:16:45.468Z"
   },
   {
    "duration": 16,
    "start_time": "2024-05-26T22:17:00.825Z"
   },
   {
    "duration": 68,
    "start_time": "2024-05-26T22:21:24.389Z"
   },
   {
    "duration": 80,
    "start_time": "2024-05-26T22:22:54.803Z"
   },
   {
    "duration": 95,
    "start_time": "2024-05-26T22:23:56.075Z"
   },
   {
    "duration": 19,
    "start_time": "2024-05-26T22:24:21.078Z"
   },
   {
    "duration": 19,
    "start_time": "2024-05-26T22:24:53.481Z"
   },
   {
    "duration": 55,
    "start_time": "2024-05-26T22:25:22.043Z"
   },
   {
    "duration": 175,
    "start_time": "2024-05-26T22:27:06.333Z"
   },
   {
    "duration": 6,
    "start_time": "2024-05-26T22:27:36.174Z"
   },
   {
    "duration": 79,
    "start_time": "2024-05-26T22:29:13.260Z"
   },
   {
    "duration": 23,
    "start_time": "2024-05-26T22:29:34.378Z"
   },
   {
    "duration": 27,
    "start_time": "2024-05-26T22:29:58.565Z"
   },
   {
    "duration": 21,
    "start_time": "2024-05-26T22:30:15.446Z"
   },
   {
    "duration": 526,
    "start_time": "2024-05-26T22:32:08.705Z"
   },
   {
    "duration": 23,
    "start_time": "2024-05-26T22:32:16.348Z"
   },
   {
    "duration": 138,
    "start_time": "2024-05-26T22:32:44.289Z"
   },
   {
    "duration": 110,
    "start_time": "2024-05-26T22:32:49.019Z"
   },
   {
    "duration": 111,
    "start_time": "2024-05-26T22:33:16.838Z"
   },
   {
    "duration": 79,
    "start_time": "2024-05-26T22:33:22.572Z"
   },
   {
    "duration": 20,
    "start_time": "2024-05-26T22:35:46.322Z"
   },
   {
    "duration": 196,
    "start_time": "2024-05-26T22:36:09.927Z"
   },
   {
    "duration": 22,
    "start_time": "2024-05-26T22:36:20.684Z"
   },
   {
    "duration": 19,
    "start_time": "2024-05-26T22:37:03.958Z"
   },
   {
    "duration": 39,
    "start_time": "2024-05-26T22:38:26.370Z"
   },
   {
    "duration": 37,
    "start_time": "2024-05-26T22:40:58.630Z"
   },
   {
    "duration": 35,
    "start_time": "2024-05-26T22:41:44.579Z"
   },
   {
    "duration": 57,
    "start_time": "2024-05-26T22:46:17.874Z"
   },
   {
    "duration": 45,
    "start_time": "2024-05-26T22:47:48.856Z"
   },
   {
    "duration": 275,
    "start_time": "2024-05-26T22:50:39.089Z"
   },
   {
    "duration": 1250,
    "start_time": "2024-05-26T22:53:04.110Z"
   },
   {
    "duration": 27,
    "start_time": "2024-05-26T22:53:05.365Z"
   },
   {
    "duration": 38,
    "start_time": "2024-05-26T22:53:05.397Z"
   },
   {
    "duration": 6,
    "start_time": "2024-05-26T22:53:05.438Z"
   },
   {
    "duration": 32,
    "start_time": "2024-05-26T22:53:05.450Z"
   },
   {
    "duration": 51,
    "start_time": "2024-05-26T22:53:05.486Z"
   },
   {
    "duration": 13,
    "start_time": "2024-05-26T22:53:05.541Z"
   },
   {
    "duration": 509,
    "start_time": "2024-05-26T22:53:05.557Z"
   },
   {
    "duration": 527,
    "start_time": "2024-05-26T22:53:06.070Z"
   },
   {
    "duration": 0,
    "start_time": "2024-05-26T22:53:06.600Z"
   },
   {
    "duration": 0,
    "start_time": "2024-05-26T22:53:06.602Z"
   },
   {
    "duration": 0,
    "start_time": "2024-05-26T22:53:06.604Z"
   },
   {
    "duration": 1,
    "start_time": "2024-05-26T22:53:06.605Z"
   },
   {
    "duration": 21,
    "start_time": "2024-05-26T22:53:13.550Z"
   },
   {
    "duration": 53,
    "start_time": "2024-05-26T22:53:14.399Z"
   },
   {
    "duration": 37,
    "start_time": "2024-05-26T22:53:22.762Z"
   },
   {
    "duration": 96,
    "start_time": "2024-05-26T22:53:25.544Z"
   },
   {
    "duration": 103,
    "start_time": "2024-05-26T22:54:17.722Z"
   },
   {
    "duration": 312,
    "start_time": "2024-05-26T22:56:28.364Z"
   },
   {
    "duration": 36,
    "start_time": "2024-05-26T22:57:42.432Z"
   },
   {
    "duration": 13,
    "start_time": "2024-05-26T22:59:00.457Z"
   },
   {
    "duration": 339,
    "start_time": "2024-05-26T23:53:13.698Z"
   },
   {
    "duration": 1258,
    "start_time": "2024-05-26T23:53:32.445Z"
   },
   {
    "duration": 120,
    "start_time": "2024-05-26T23:53:38.074Z"
   },
   {
    "duration": 1206,
    "start_time": "2024-05-26T23:53:52.902Z"
   },
   {
    "duration": 54,
    "start_time": "2024-05-26T23:53:54.111Z"
   },
   {
    "duration": 25,
    "start_time": "2024-05-26T23:53:54.167Z"
   },
   {
    "duration": 6,
    "start_time": "2024-05-26T23:53:54.195Z"
   },
   {
    "duration": 43,
    "start_time": "2024-05-26T23:53:54.206Z"
   },
   {
    "duration": 18,
    "start_time": "2024-05-26T23:53:54.253Z"
   },
   {
    "duration": 18,
    "start_time": "2024-05-26T23:53:54.274Z"
   },
   {
    "duration": 4690,
    "start_time": "2024-05-26T23:53:54.298Z"
   },
   {
    "duration": 13,
    "start_time": "2024-05-26T23:53:58.996Z"
   },
   {
    "duration": 30,
    "start_time": "2024-05-26T23:53:59.013Z"
   },
   {
    "duration": 57,
    "start_time": "2024-05-26T23:53:59.046Z"
   },
   {
    "duration": 65,
    "start_time": "2024-05-26T23:53:59.106Z"
   },
   {
    "duration": 117,
    "start_time": "2024-05-26T23:53:59.175Z"
   },
   {
    "duration": 603,
    "start_time": "2024-05-26T23:53:59.338Z"
   },
   {
    "duration": 16,
    "start_time": "2024-05-26T23:54:30.653Z"
   },
   {
    "duration": 5,
    "start_time": "2024-05-27T00:02:09.891Z"
   },
   {
    "duration": 5,
    "start_time": "2024-05-27T00:02:46.610Z"
   },
   {
    "duration": 11,
    "start_time": "2024-05-27T00:02:49.887Z"
   },
   {
    "duration": 71,
    "start_time": "2024-05-27T00:09:22.576Z"
   },
   {
    "duration": 69,
    "start_time": "2024-05-27T00:10:34.351Z"
   },
   {
    "duration": 37,
    "start_time": "2024-05-27T00:11:27.655Z"
   },
   {
    "duration": 8,
    "start_time": "2024-05-27T00:11:49.826Z"
   },
   {
    "duration": 34,
    "start_time": "2024-05-27T00:14:38.968Z"
   },
   {
    "duration": 5,
    "start_time": "2024-05-27T00:21:11.684Z"
   },
   {
    "duration": 57,
    "start_time": "2024-05-27T00:23:44.183Z"
   },
   {
    "duration": 64,
    "start_time": "2024-05-27T00:24:29.387Z"
   },
   {
    "duration": 5,
    "start_time": "2024-05-27T00:24:52.310Z"
   },
   {
    "duration": 79,
    "start_time": "2024-05-27T00:24:56.568Z"
   },
   {
    "duration": 77,
    "start_time": "2024-05-27T00:27:17.192Z"
   },
   {
    "duration": 42,
    "start_time": "2024-05-27T00:29:48.197Z"
   },
   {
    "duration": 31,
    "start_time": "2024-05-27T00:31:55.184Z"
   },
   {
    "duration": 46,
    "start_time": "2024-05-27T00:32:44.259Z"
   },
   {
    "duration": 31,
    "start_time": "2024-05-27T00:34:44.271Z"
   },
   {
    "duration": 53,
    "start_time": "2024-05-27T00:41:07.000Z"
   },
   {
    "duration": 11,
    "start_time": "2024-05-27T00:42:42.760Z"
   },
   {
    "duration": 7,
    "start_time": "2024-05-27T00:42:49.019Z"
   },
   {
    "duration": 12,
    "start_time": "2024-05-27T00:42:52.634Z"
   },
   {
    "duration": 106,
    "start_time": "2024-05-27T00:43:43.833Z"
   },
   {
    "duration": 9,
    "start_time": "2024-05-27T00:43:57.175Z"
   },
   {
    "duration": 10,
    "start_time": "2024-05-27T00:44:04.876Z"
   },
   {
    "duration": 192,
    "start_time": "2024-05-27T00:47:59.956Z"
   },
   {
    "duration": 239,
    "start_time": "2024-05-27T00:48:58.976Z"
   },
   {
    "duration": 250,
    "start_time": "2024-05-27T00:49:30.790Z"
   },
   {
    "duration": 296,
    "start_time": "2024-05-27T00:49:40.985Z"
   },
   {
    "duration": 470,
    "start_time": "2024-05-27T00:55:35.569Z"
   },
   {
    "duration": 25,
    "start_time": "2024-05-27T01:16:49.594Z"
   },
   {
    "duration": 4,
    "start_time": "2024-05-27T01:25:55.437Z"
   },
   {
    "duration": 58,
    "start_time": "2024-05-27T01:26:23.192Z"
   },
   {
    "duration": 5,
    "start_time": "2024-05-27T01:27:57.975Z"
   },
   {
    "duration": 25,
    "start_time": "2024-05-27T01:30:09.812Z"
   },
   {
    "duration": 106,
    "start_time": "2024-05-27T01:30:25.401Z"
   },
   {
    "duration": 61,
    "start_time": "2024-05-27T01:37:55.453Z"
   },
   {
    "duration": 5,
    "start_time": "2024-05-27T01:41:26.885Z"
   },
   {
    "duration": 1049,
    "start_time": "2024-05-27T01:41:37.190Z"
   },
   {
    "duration": 30,
    "start_time": "2024-05-27T01:43:14.107Z"
   },
   {
    "duration": 6,
    "start_time": "2024-05-27T01:45:40.740Z"
   },
   {
    "duration": 9,
    "start_time": "2024-05-27T01:45:48.774Z"
   },
   {
    "duration": 24,
    "start_time": "2024-05-27T01:46:47.012Z"
   },
   {
    "duration": 10,
    "start_time": "2024-05-27T01:47:27.322Z"
   },
   {
    "duration": 30,
    "start_time": "2024-05-27T01:50:00.526Z"
   },
   {
    "duration": 10,
    "start_time": "2024-05-27T01:50:01.677Z"
   },
   {
    "duration": 5669,
    "start_time": "2024-05-27T02:33:18.967Z"
   },
   {
    "duration": 49,
    "start_time": "2024-05-27T02:33:24.640Z"
   },
   {
    "duration": 23,
    "start_time": "2024-05-27T02:33:24.693Z"
   },
   {
    "duration": 6,
    "start_time": "2024-05-27T02:33:24.724Z"
   },
   {
    "duration": 29,
    "start_time": "2024-05-27T02:33:24.737Z"
   },
   {
    "duration": 16,
    "start_time": "2024-05-27T02:33:24.770Z"
   },
   {
    "duration": 12,
    "start_time": "2024-05-27T02:33:24.825Z"
   },
   {
    "duration": 222,
    "start_time": "2024-05-27T02:33:24.840Z"
   },
   {
    "duration": 13,
    "start_time": "2024-05-27T02:33:25.068Z"
   },
   {
    "duration": 38,
    "start_time": "2024-05-27T02:33:25.085Z"
   },
   {
    "duration": 59,
    "start_time": "2024-05-27T02:33:25.126Z"
   },
   {
    "duration": 67,
    "start_time": "2024-05-27T02:33:25.189Z"
   },
   {
    "duration": 181,
    "start_time": "2024-05-27T02:33:25.259Z"
   },
   {
    "duration": 9,
    "start_time": "2024-05-27T02:33:25.446Z"
   },
   {
    "duration": 155,
    "start_time": "2024-05-27T02:33:25.523Z"
   },
   {
    "duration": 50,
    "start_time": "2024-05-27T02:33:25.681Z"
   },
   {
    "duration": 474,
    "start_time": "2024-05-27T02:33:25.734Z"
   },
   {
    "duration": 1147,
    "start_time": "2024-05-27T02:33:26.222Z"
   },
   {
    "duration": 42,
    "start_time": "2024-05-27T02:33:27.373Z"
   },
   {
    "duration": 15,
    "start_time": "2024-05-27T02:33:27.423Z"
   },
   {
    "duration": 32,
    "start_time": "2024-05-27T02:33:46.358Z"
   },
   {
    "duration": 12,
    "start_time": "2024-05-27T02:33:46.983Z"
   },
   {
    "duration": 10,
    "start_time": "2024-05-27T02:35:25.084Z"
   },
   {
    "duration": 21,
    "start_time": "2024-05-27T03:00:19.139Z"
   },
   {
    "duration": 1328,
    "start_time": "2024-05-27T03:01:07.070Z"
   },
   {
    "duration": 1514,
    "start_time": "2024-05-27T03:11:34.304Z"
   },
   {
    "duration": 38,
    "start_time": "2024-05-27T03:11:35.821Z"
   },
   {
    "duration": 20,
    "start_time": "2024-05-27T03:11:35.861Z"
   },
   {
    "duration": 5,
    "start_time": "2024-05-27T03:11:35.886Z"
   },
   {
    "duration": 58,
    "start_time": "2024-05-27T03:11:35.894Z"
   },
   {
    "duration": 17,
    "start_time": "2024-05-27T03:11:35.954Z"
   },
   {
    "duration": 10,
    "start_time": "2024-05-27T03:11:35.974Z"
   },
   {
    "duration": 302,
    "start_time": "2024-05-27T03:11:35.988Z"
   },
   {
    "duration": 13,
    "start_time": "2024-05-27T03:11:36.293Z"
   },
   {
    "duration": 24,
    "start_time": "2024-05-27T03:11:36.331Z"
   },
   {
    "duration": 68,
    "start_time": "2024-05-27T03:11:36.359Z"
   },
   {
    "duration": 46,
    "start_time": "2024-05-27T03:11:36.430Z"
   },
   {
    "duration": 172,
    "start_time": "2024-05-27T03:11:36.479Z"
   },
   {
    "duration": 81,
    "start_time": "2024-05-27T03:11:36.661Z"
   },
   {
    "duration": 139,
    "start_time": "2024-05-27T03:11:36.745Z"
   },
   {
    "duration": 1326,
    "start_time": "2024-05-27T03:11:36.887Z"
   },
   {
    "duration": 56,
    "start_time": "2024-05-27T03:11:38.216Z"
   },
   {
    "duration": 578,
    "start_time": "2024-05-27T03:11:38.281Z"
   },
   {
    "duration": 1232,
    "start_time": "2024-05-27T03:11:38.863Z"
   },
   {
    "duration": 46,
    "start_time": "2024-05-27T03:11:40.099Z"
   },
   {
    "duration": 20,
    "start_time": "2024-05-27T03:11:40.148Z"
   },
   {
    "duration": 65855,
    "start_time": "2024-05-27T03:13:51.657Z"
   },
   {
    "duration": 6143,
    "start_time": "2024-05-27T03:23:19.961Z"
   },
   {
    "duration": 12753,
    "start_time": "2024-05-27T03:23:44.148Z"
   },
   {
    "duration": 10,
    "start_time": "2024-05-27T03:24:47.946Z"
   },
   {
    "duration": 1264,
    "start_time": "2024-05-27T03:27:27.843Z"
   },
   {
    "duration": 792,
    "start_time": "2024-05-27T03:29:17.703Z"
   },
   {
    "duration": 781,
    "start_time": "2024-05-27T03:30:24.191Z"
   },
   {
    "duration": 783,
    "start_time": "2024-05-27T03:34:17.049Z"
   },
   {
    "duration": 92,
    "start_time": "2024-05-27T03:36:38.294Z"
   },
   {
    "duration": 791,
    "start_time": "2024-05-27T03:36:45.418Z"
   },
   {
    "duration": 1026,
    "start_time": "2024-05-27T03:36:52.475Z"
   },
   {
    "duration": 775,
    "start_time": "2024-05-27T03:37:01.244Z"
   },
   {
    "duration": 3882,
    "start_time": "2024-05-27T03:38:18.131Z"
   },
   {
    "duration": 38700,
    "start_time": "2024-05-27T03:38:29.866Z"
   },
   {
    "duration": 833,
    "start_time": "2024-05-27T03:40:53.481Z"
   },
   {
    "duration": 827,
    "start_time": "2024-05-27T03:41:03.637Z"
   },
   {
    "duration": 837,
    "start_time": "2024-05-27T03:41:11.766Z"
   },
   {
    "duration": 885,
    "start_time": "2024-05-27T03:41:23.332Z"
   },
   {
    "duration": 834,
    "start_time": "2024-05-27T03:41:31.963Z"
   },
   {
    "duration": 19090,
    "start_time": "2024-05-27T03:50:52.392Z"
   },
   {
    "duration": 18701,
    "start_time": "2024-05-27T03:54:54.677Z"
   },
   {
    "duration": 18995,
    "start_time": "2024-05-27T03:55:27.344Z"
   },
   {
    "duration": 18875,
    "start_time": "2024-05-27T03:56:09.441Z"
   },
   {
    "duration": 19166,
    "start_time": "2024-05-27T03:57:02.396Z"
   },
   {
    "duration": 18835,
    "start_time": "2024-05-27T03:58:28.510Z"
   },
   {
    "duration": 20,
    "start_time": "2024-05-27T03:59:47.350Z"
   },
   {
    "duration": 22,
    "start_time": "2024-05-27T04:00:19.942Z"
   },
   {
    "duration": 19114,
    "start_time": "2024-05-27T04:00:31.882Z"
   },
   {
    "duration": 22246,
    "start_time": "2024-05-27T04:02:52.233Z"
   },
   {
    "duration": 5168,
    "start_time": "2024-05-27T15:35:51.153Z"
   },
   {
    "duration": 29,
    "start_time": "2024-05-27T15:35:56.325Z"
   },
   {
    "duration": 18,
    "start_time": "2024-05-27T15:35:56.358Z"
   },
   {
    "duration": 34,
    "start_time": "2024-05-27T15:35:56.379Z"
   },
   {
    "duration": 24,
    "start_time": "2024-05-27T15:35:56.418Z"
   },
   {
    "duration": 17,
    "start_time": "2024-05-27T15:35:56.444Z"
   },
   {
    "duration": 9,
    "start_time": "2024-05-27T15:35:56.464Z"
   },
   {
    "duration": 200,
    "start_time": "2024-05-27T15:35:56.514Z"
   },
   {
    "duration": 12,
    "start_time": "2024-05-27T15:35:56.717Z"
   },
   {
    "duration": 16,
    "start_time": "2024-05-27T15:35:56.733Z"
   },
   {
    "duration": 92,
    "start_time": "2024-05-27T15:35:56.752Z"
   },
   {
    "duration": 35,
    "start_time": "2024-05-27T15:35:56.847Z"
   },
   {
    "duration": 129,
    "start_time": "2024-05-27T15:35:56.885Z"
   },
   {
    "duration": 9,
    "start_time": "2024-05-27T15:35:57.021Z"
   },
   {
    "duration": 136,
    "start_time": "2024-05-27T15:35:57.034Z"
   },
   {
    "duration": 1233,
    "start_time": "2024-05-27T15:35:57.173Z"
   },
   {
    "duration": 33,
    "start_time": "2024-05-27T15:35:58.413Z"
   },
   {
    "duration": 554,
    "start_time": "2024-05-27T15:35:58.449Z"
   },
   {
    "duration": 1073,
    "start_time": "2024-05-27T15:35:59.013Z"
   },
   {
    "duration": 45,
    "start_time": "2024-05-27T15:36:00.089Z"
   },
   {
    "duration": 12,
    "start_time": "2024-05-27T15:36:00.137Z"
   },
   {
    "duration": 11778,
    "start_time": "2024-05-27T15:36:00.152Z"
   },
   {
    "duration": 767,
    "start_time": "2024-05-27T15:36:11.934Z"
   },
   {
    "duration": 18934,
    "start_time": "2024-05-27T15:36:12.704Z"
   },
   {
    "duration": 5312,
    "start_time": "2024-05-27T21:03:20.329Z"
   },
   {
    "duration": 39,
    "start_time": "2024-05-27T21:03:25.645Z"
   },
   {
    "duration": 18,
    "start_time": "2024-05-27T21:03:25.687Z"
   },
   {
    "duration": 18,
    "start_time": "2024-05-27T21:03:25.708Z"
   },
   {
    "duration": 26,
    "start_time": "2024-05-27T21:03:25.731Z"
   },
   {
    "duration": 16,
    "start_time": "2024-05-27T21:03:25.760Z"
   },
   {
    "duration": 49,
    "start_time": "2024-05-27T21:03:25.779Z"
   },
   {
    "duration": 210,
    "start_time": "2024-05-27T21:03:25.830Z"
   },
   {
    "duration": 13,
    "start_time": "2024-05-27T21:03:26.044Z"
   },
   {
    "duration": 17,
    "start_time": "2024-05-27T21:03:26.060Z"
   },
   {
    "duration": 81,
    "start_time": "2024-05-27T21:03:26.083Z"
   },
   {
    "duration": 59,
    "start_time": "2024-05-27T21:03:26.167Z"
   },
   {
    "duration": 102,
    "start_time": "2024-05-27T21:03:26.230Z"
   },
   {
    "duration": 87,
    "start_time": "2024-05-27T21:03:26.340Z"
   },
   {
    "duration": 135,
    "start_time": "2024-05-27T21:03:26.436Z"
   },
   {
    "duration": 1227,
    "start_time": "2024-05-27T21:03:26.574Z"
   },
   {
    "duration": 39,
    "start_time": "2024-05-27T21:03:27.805Z"
   },
   {
    "duration": 451,
    "start_time": "2024-05-27T21:03:27.846Z"
   },
   {
    "duration": 1083,
    "start_time": "2024-05-27T21:03:28.300Z"
   },
   {
    "duration": 47,
    "start_time": "2024-05-27T21:03:29.387Z"
   },
   {
    "duration": 11,
    "start_time": "2024-05-27T21:03:29.438Z"
   },
   {
    "duration": 11798,
    "start_time": "2024-05-27T21:03:29.452Z"
   },
   {
    "duration": 780,
    "start_time": "2024-05-27T21:03:41.253Z"
   },
   {
    "duration": 18962,
    "start_time": "2024-05-27T21:03:42.036Z"
   },
   {
    "duration": 18986,
    "start_time": "2024-05-27T21:07:41.491Z"
   },
   {
    "duration": 6,
    "start_time": "2024-05-27T21:13:02.356Z"
   },
   {
    "duration": 7,
    "start_time": "2024-05-27T21:18:07.011Z"
   },
   {
    "duration": 4,
    "start_time": "2024-05-27T21:18:28.781Z"
   },
   {
    "duration": 614,
    "start_time": "2024-05-27T21:19:52.388Z"
   },
   {
    "duration": 597,
    "start_time": "2024-05-27T21:20:00.508Z"
   },
   {
    "duration": 1045,
    "start_time": "2024-05-27T21:20:52.362Z"
   },
   {
    "duration": 6,
    "start_time": "2024-05-27T21:21:36.022Z"
   },
   {
    "duration": 595,
    "start_time": "2024-05-27T21:21:40.543Z"
   },
   {
    "duration": 9,
    "start_time": "2024-05-27T21:24:22.532Z"
   },
   {
    "duration": 9,
    "start_time": "2024-05-27T21:24:34.770Z"
   },
   {
    "duration": 6,
    "start_time": "2024-05-27T21:34:11.867Z"
   },
   {
    "duration": 1470,
    "start_time": "2024-05-27T21:34:18.145Z"
   },
   {
    "duration": 26,
    "start_time": "2024-05-27T21:34:19.619Z"
   },
   {
    "duration": 22,
    "start_time": "2024-05-27T21:34:19.648Z"
   },
   {
    "duration": 6,
    "start_time": "2024-05-27T21:34:19.675Z"
   },
   {
    "duration": 64,
    "start_time": "2024-05-27T21:34:19.684Z"
   },
   {
    "duration": 17,
    "start_time": "2024-05-27T21:34:19.752Z"
   },
   {
    "duration": 10,
    "start_time": "2024-05-27T21:34:19.772Z"
   },
   {
    "duration": 317,
    "start_time": "2024-05-27T21:34:19.786Z"
   },
   {
    "duration": 25,
    "start_time": "2024-05-27T21:34:20.106Z"
   },
   {
    "duration": 20,
    "start_time": "2024-05-27T21:34:20.138Z"
   },
   {
    "duration": 81,
    "start_time": "2024-05-27T21:34:20.162Z"
   },
   {
    "duration": 35,
    "start_time": "2024-05-27T21:34:20.247Z"
   },
   {
    "duration": 143,
    "start_time": "2024-05-27T21:34:20.285Z"
   },
   {
    "duration": 17,
    "start_time": "2024-05-27T21:34:20.432Z"
   },
   {
    "duration": 142,
    "start_time": "2024-05-27T21:34:20.524Z"
   },
   {
    "duration": 1215,
    "start_time": "2024-05-27T21:34:20.669Z"
   },
   {
    "duration": 43,
    "start_time": "2024-05-27T21:34:21.887Z"
   },
   {
    "duration": 467,
    "start_time": "2024-05-27T21:34:21.933Z"
   },
   {
    "duration": 1088,
    "start_time": "2024-05-27T21:34:22.403Z"
   },
   {
    "duration": 49,
    "start_time": "2024-05-27T21:34:23.494Z"
   },
   {
    "duration": 11,
    "start_time": "2024-05-27T21:34:23.546Z"
   },
   {
    "duration": 11843,
    "start_time": "2024-05-27T21:34:23.561Z"
   },
   {
    "duration": 780,
    "start_time": "2024-05-27T21:34:35.408Z"
   },
   {
    "duration": 18987,
    "start_time": "2024-05-27T21:34:36.191Z"
   },
   {
    "duration": 628,
    "start_time": "2024-05-27T21:34:55.181Z"
   },
   {
    "duration": 14,
    "start_time": "2024-05-27T21:34:55.813Z"
   },
   {
    "duration": 8,
    "start_time": "2024-05-27T21:34:55.830Z"
   },
   {
    "duration": 21,
    "start_time": "2024-05-27T21:47:26.039Z"
   },
   {
    "duration": 61,
    "start_time": "2024-05-27T22:01:48.196Z"
   },
   {
    "duration": 1188,
    "start_time": "2024-05-27T22:03:31.811Z"
   },
   {
    "duration": 1632,
    "start_time": "2024-05-27T22:04:24.880Z"
   },
   {
    "duration": 1191,
    "start_time": "2024-05-27T22:04:32.035Z"
   },
   {
    "duration": 32,
    "start_time": "2024-05-27T22:06:43.652Z"
   },
   {
    "duration": 393,
    "start_time": "2024-05-27T22:07:09.094Z"
   },
   {
    "duration": 601,
    "start_time": "2024-05-27T22:19:16.599Z"
   },
   {
    "duration": 5,
    "start_time": "2024-05-27T22:24:40.432Z"
   },
   {
    "duration": 25,
    "start_time": "2024-05-27T22:24:40.576Z"
   },
   {
    "duration": 21,
    "start_time": "2024-05-27T22:24:40.736Z"
   },
   {
    "duration": 19,
    "start_time": "2024-05-27T22:24:41.048Z"
   },
   {
    "duration": 6,
    "start_time": "2024-05-27T22:24:41.362Z"
   },
   {
    "duration": 16,
    "start_time": "2024-05-27T22:24:41.658Z"
   },
   {
    "duration": 10,
    "start_time": "2024-05-27T22:24:42.114Z"
   },
   {
    "duration": 163,
    "start_time": "2024-05-27T22:24:42.260Z"
   },
   {
    "duration": 12,
    "start_time": "2024-05-27T22:24:42.566Z"
   },
   {
    "duration": 49,
    "start_time": "2024-05-27T22:24:43.034Z"
   },
   {
    "duration": 36,
    "start_time": "2024-05-27T22:24:43.181Z"
   },
   {
    "duration": 31,
    "start_time": "2024-05-27T22:24:43.311Z"
   },
   {
    "duration": 1496,
    "start_time": "2024-05-27T22:24:48.962Z"
   },
   {
    "duration": 25,
    "start_time": "2024-05-27T22:24:50.463Z"
   },
   {
    "duration": 44,
    "start_time": "2024-05-27T22:24:50.490Z"
   },
   {
    "duration": 17,
    "start_time": "2024-05-27T22:24:50.537Z"
   },
   {
    "duration": 5,
    "start_time": "2024-05-27T22:24:50.560Z"
   },
   {
    "duration": 16,
    "start_time": "2024-05-27T22:24:50.569Z"
   },
   {
    "duration": 15,
    "start_time": "2024-05-27T22:24:50.623Z"
   },
   {
    "duration": 284,
    "start_time": "2024-05-27T22:24:50.641Z"
   },
   {
    "duration": 16,
    "start_time": "2024-05-27T22:24:50.928Z"
   },
   {
    "duration": 91,
    "start_time": "2024-05-27T22:24:50.949Z"
   },
   {
    "duration": 44,
    "start_time": "2024-05-27T22:24:51.043Z"
   },
   {
    "duration": 133,
    "start_time": "2024-05-27T22:24:51.092Z"
   },
   {
    "duration": 8,
    "start_time": "2024-05-27T22:24:51.228Z"
   },
   {
    "duration": 185,
    "start_time": "2024-05-27T22:24:51.242Z"
   },
   {
    "duration": 1201,
    "start_time": "2024-05-27T22:24:51.430Z"
   },
   {
    "duration": 29,
    "start_time": "2024-05-27T22:24:52.634Z"
   },
   {
    "duration": 521,
    "start_time": "2024-05-27T22:24:52.666Z"
   },
   {
    "duration": 1094,
    "start_time": "2024-05-27T22:24:53.190Z"
   },
   {
    "duration": 43,
    "start_time": "2024-05-27T22:24:54.287Z"
   },
   {
    "duration": 12,
    "start_time": "2024-05-27T22:24:54.333Z"
   },
   {
    "duration": 7,
    "start_time": "2024-05-27T22:27:28.351Z"
   },
   {
    "duration": 25,
    "start_time": "2024-05-27T22:27:29.003Z"
   },
   {
    "duration": 23,
    "start_time": "2024-05-27T22:27:29.376Z"
   },
   {
    "duration": 16,
    "start_time": "2024-05-27T22:27:40.204Z"
   },
   {
    "duration": 6,
    "start_time": "2024-05-27T22:27:48.924Z"
   },
   {
    "duration": 17,
    "start_time": "2024-05-27T22:27:49.823Z"
   },
   {
    "duration": 8,
    "start_time": "2024-05-27T22:28:05.681Z"
   },
   {
    "duration": 162,
    "start_time": "2024-05-27T22:28:06.672Z"
   },
   {
    "duration": 14,
    "start_time": "2024-05-27T22:28:13.471Z"
   },
   {
    "duration": 47,
    "start_time": "2024-05-27T22:28:16.087Z"
   },
   {
    "duration": 37,
    "start_time": "2024-05-27T22:28:16.859Z"
   },
   {
    "duration": 83,
    "start_time": "2024-05-27T22:28:17.544Z"
   },
   {
    "duration": 9,
    "start_time": "2024-05-27T22:28:18.244Z"
   },
   {
    "duration": 61,
    "start_time": "2024-05-27T22:28:30.190Z"
   },
   {
    "duration": 1248,
    "start_time": "2024-05-27T22:28:49.442Z"
   },
   {
    "duration": 29,
    "start_time": "2024-05-27T22:29:05.962Z"
   },
   {
    "duration": 402,
    "start_time": "2024-05-27T22:29:07.082Z"
   },
   {
    "duration": 1067,
    "start_time": "2024-05-27T22:29:37.177Z"
   },
   {
    "duration": 32,
    "start_time": "2024-05-27T22:29:38.248Z"
   },
   {
    "duration": 12,
    "start_time": "2024-05-27T22:29:38.541Z"
   },
   {
    "duration": 11767,
    "start_time": "2024-05-27T22:29:41.887Z"
   },
   {
    "duration": 783,
    "start_time": "2024-05-27T22:29:53.658Z"
   },
   {
    "duration": 18886,
    "start_time": "2024-05-27T22:29:54.444Z"
   },
   {
    "duration": 621,
    "start_time": "2024-05-27T22:30:13.335Z"
   },
   {
    "duration": 9,
    "start_time": "2024-05-27T22:30:13.959Z"
   },
   {
    "duration": 9,
    "start_time": "2024-05-27T22:30:13.971Z"
   }
  ],
  "kernelspec": {
   "display_name": "Python 3 (ipykernel)",
   "language": "python",
   "name": "python3"
  },
  "language_info": {
   "codemirror_mode": {
    "name": "ipython",
    "version": 3
   },
   "file_extension": ".py",
   "mimetype": "text/x-python",
   "name": "python",
   "nbconvert_exporter": "python",
   "pygments_lexer": "ipython3",
   "version": "3.11.5"
  },
  "toc": {
   "base_numbering": 1,
   "nav_menu": {},
   "number_sections": true,
   "sideBar": true,
   "skip_h1_title": true,
   "title_cell": "Table of Contents",
   "title_sidebar": "Contents",
   "toc_cell": false,
   "toc_position": {
    "height": "calc(100% - 180px)",
    "left": "10px",
    "top": "150px",
    "width": "165px"
   },
   "toc_section_display": true,
   "toc_window_display": false
  }
 },
 "nbformat": 4,
 "nbformat_minor": 2
}
